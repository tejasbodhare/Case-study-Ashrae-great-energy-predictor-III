{
 "cells": [
  {
   "cell_type": "code",
   "execution_count": null,
   "metadata": {
    "id": "gZ9wwpNNupSW"
   },
   "outputs": [],
   "source": [
    "\n",
    "import pandas as pd\n",
    "import numpy as np\n",
    "import pickle\n",
    "import datetime as dt\n",
    "import warnings\n",
    "warnings.filterwarnings(\"ignore\")\n",
    "import matplotlib.pyplot as plt\n",
    "import seaborn as sns\n",
    "from sklearn.impute import SimpleImputer\n",
    "import gc\n",
    "from numpy import percentile\n",
    "from sklearn.model_selection import train_test_split\n",
    "\n",
    "from sklearn.metrics import mean_squared_error as MSE\n",
    "from sklearn.tree import DecisionTreeRegressor\n",
    "from sklearn.model_selection import RandomizedSearchCV\n",
    "from sklearn.linear_model import LinearRegression\n",
    "import statsmodels.api as sm  "
   ]
  },
  {
   "cell_type": "code",
   "execution_count": null,
   "metadata": {
    "id": "JpWwCG65u7vm"
   },
   "outputs": [],
   "source": [
    "# loading merge_df\n",
    "with open(\"/content/drive/MyDrive/merge_df.pkl\",\"rb\") as f:\n",
    "  merge_df=pickle.load(f)"
   ]
  },
  {
   "cell_type": "code",
   "execution_count": null,
   "metadata": {
    "id": "lNFpx-_06OWO"
   },
   "outputs": [],
   "source": [
    "def reduce_mem_usage(df, verbose=True):\n",
    "    '''This function reduces the size of  dataframe '''\n",
    "    \n",
    "    numerics = ['int16', 'int32', 'int64', 'float16', 'float32', 'float64']\n",
    "    start_mem = df.memory_usage().sum() / 1024**2    \n",
    "    for col in df.columns:\n",
    "        col_type = df[col].dtypes\n",
    "        if col_type in numerics:\n",
    "            c_min = df[col].min()\n",
    "            c_max = df[col].max()\n",
    "            if str(col_type)[:3] == 'int':\n",
    "                if c_min > np.iinfo(np.int8).min and c_max < np.iinfo(np.int8).max:\n",
    "                    df[col] = df[col].astype(np.int8)\n",
    "                elif c_min > np.iinfo(np.int16).min and c_max < np.iinfo(np.int16).max:\n",
    "                    df[col] = df[col].astype(np.int16)\n",
    "                elif c_min > np.iinfo(np.int32).min and c_max < np.iinfo(np.int32).max:\n",
    "                    df[col] = df[col].astype(np.int32)\n",
    "                elif c_min > np.iinfo(np.int64).min and c_max < np.iinfo(np.int64).max:\n",
    "                    df[col] = df[col].astype(np.int64)  \n",
    "            else:\n",
    "                if c_min > np.finfo(np.float16).min and c_max < np.finfo(np.float16).max:\n",
    "                    df[col] = df[col].astype(np.float16)\n",
    "                elif c_min > np.finfo(np.float32).min and c_max < np.finfo(np.float32).max:\n",
    "                    df[col] = df[col].astype(np.float32)\n",
    "                else:\n",
    "                    df[col] = df[col].astype(np.float64)    \n",
    "    end_mem = df.memory_usage().sum() / 1024**2\n",
    "    if verbose: print('Mem. usage decreased to {:5.2f} Mb ({:.1f}% reduction)'.format(end_mem, 100 * (start_mem - end_mem) / start_mem))\n",
    "    return df"
   ]
  },
  {
   "cell_type": "markdown",
   "metadata": {
    "id": "pNz-dqCbf83y"
   },
   "source": [
    "# Linear regression model with outliers (one hot encoding)"
   ]
  },
  {
   "cell_type": "code",
   "execution_count": null,
   "metadata": {
    "id": "MUUFpeEUaPie"
   },
   "outputs": [],
   "source": [
    "#converting meter readings and square feet value to logarathmic values\n",
    "merge_df['meter_reading'] = np.log1p(merge_df['meter_reading'])\n",
    "merge_df['square_feet'] = np.log1p(merge_df['square_feet'])"
   ]
  },
  {
   "cell_type": "code",
   "execution_count": null,
   "metadata": {
    "id": "XNQ1A7YAauOr"
   },
   "outputs": [],
   "source": [
    "#one hot encoding primary_use feature\n",
    "merge_df=pd.get_dummies(merge_df, columns=['primary_use'])\n",
    "\n",
    "# adding month, day and hour feature\n",
    "merge_df['Month']=pd.DatetimeIndex(merge_df['timestamp']).month\n",
    "merge_df['Day']=pd.DatetimeIndex(merge_df['timestamp']).day\n",
    "merge_df['Hour']=pd.DatetimeIndex(merge_df['timestamp']).hour\n",
    "\n",
    "#dropping timestamp and site_id column. \n",
    "#site_id is higly correlated with building id hence we will drop it. \n",
    "merge_df=merge_df.drop(['timestamp','site_id'],axis=1)"
   ]
  },
  {
   "cell_type": "code",
   "execution_count": null,
   "metadata": {
    "colab": {
     "base_uri": "https://localhost:8080/"
    },
    "id": "2rlBAr1R5fp7",
    "outputId": "23a62067-9b84-40eb-f037-c1fc46ff47e3"
   },
   "outputs": [
    {
     "name": "stdout",
     "output_type": "stream",
     "text": [
      "Mem. usage decreased to 848.30 Mb (39.7% reduction)\n"
     ]
    }
   ],
   "source": [
    "# reducing memory size of data frame\n",
    "merge_df=reduce_mem_usage(merge_df)"
   ]
  },
  {
   "cell_type": "code",
   "execution_count": null,
   "metadata": {
    "colab": {
     "base_uri": "https://localhost:8080/",
     "height": 317
    },
    "id": "XlhX-WoPfJiZ",
    "outputId": "dc142c7a-aa49-4dbc-c758-232bef5dba13"
   },
   "outputs": [
    {
     "data": {
      "text/html": [
       "\n",
       "  <div id=\"df-0eff40da-9351-441f-9da9-a8986f5ef6d1\">\n",
       "    <div class=\"colab-df-container\">\n",
       "      <div>\n",
       "<style scoped>\n",
       "    .dataframe tbody tr th:only-of-type {\n",
       "        vertical-align: middle;\n",
       "    }\n",
       "\n",
       "    .dataframe tbody tr th {\n",
       "        vertical-align: top;\n",
       "    }\n",
       "\n",
       "    .dataframe thead th {\n",
       "        text-align: right;\n",
       "    }\n",
       "</style>\n",
       "<table border=\"1\" class=\"dataframe\">\n",
       "  <thead>\n",
       "    <tr style=\"text-align: right;\">\n",
       "      <th></th>\n",
       "      <th>building_id</th>\n",
       "      <th>square_feet</th>\n",
       "      <th>meter</th>\n",
       "      <th>meter_reading</th>\n",
       "      <th>air_temperature</th>\n",
       "      <th>dew_temperature</th>\n",
       "      <th>sea_level_pressure</th>\n",
       "      <th>wind_direction</th>\n",
       "      <th>wind_speed</th>\n",
       "      <th>primary_use_Education</th>\n",
       "      <th>...</th>\n",
       "      <th>primary_use_Public services</th>\n",
       "      <th>primary_use_Religious worship</th>\n",
       "      <th>primary_use_Retail</th>\n",
       "      <th>primary_use_Services</th>\n",
       "      <th>primary_use_Technology/science</th>\n",
       "      <th>primary_use_Utility</th>\n",
       "      <th>primary_use_Warehouse/storage</th>\n",
       "      <th>Month</th>\n",
       "      <th>Day</th>\n",
       "      <th>Hour</th>\n",
       "    </tr>\n",
       "  </thead>\n",
       "  <tbody>\n",
       "    <tr>\n",
       "      <th>0</th>\n",
       "      <td>0</td>\n",
       "      <td>8.913685</td>\n",
       "      <td>0</td>\n",
       "      <td>0.0</td>\n",
       "      <td>19.40625</td>\n",
       "      <td>19.40625</td>\n",
       "      <td>1016.0</td>\n",
       "      <td>0.0</td>\n",
       "      <td>0.0</td>\n",
       "      <td>1</td>\n",
       "      <td>...</td>\n",
       "      <td>0</td>\n",
       "      <td>0</td>\n",
       "      <td>0</td>\n",
       "      <td>0</td>\n",
       "      <td>0</td>\n",
       "      <td>0</td>\n",
       "      <td>0</td>\n",
       "      <td>1</td>\n",
       "      <td>1</td>\n",
       "      <td>0</td>\n",
       "    </tr>\n",
       "    <tr>\n",
       "      <th>1</th>\n",
       "      <td>1</td>\n",
       "      <td>7.908755</td>\n",
       "      <td>0</td>\n",
       "      <td>0.0</td>\n",
       "      <td>19.40625</td>\n",
       "      <td>19.40625</td>\n",
       "      <td>1016.0</td>\n",
       "      <td>0.0</td>\n",
       "      <td>0.0</td>\n",
       "      <td>1</td>\n",
       "      <td>...</td>\n",
       "      <td>0</td>\n",
       "      <td>0</td>\n",
       "      <td>0</td>\n",
       "      <td>0</td>\n",
       "      <td>0</td>\n",
       "      <td>0</td>\n",
       "      <td>0</td>\n",
       "      <td>1</td>\n",
       "      <td>1</td>\n",
       "      <td>0</td>\n",
       "    </tr>\n",
       "    <tr>\n",
       "      <th>2</th>\n",
       "      <td>2</td>\n",
       "      <td>8.589886</td>\n",
       "      <td>0</td>\n",
       "      <td>0.0</td>\n",
       "      <td>19.40625</td>\n",
       "      <td>19.40625</td>\n",
       "      <td>1016.0</td>\n",
       "      <td>0.0</td>\n",
       "      <td>0.0</td>\n",
       "      <td>1</td>\n",
       "      <td>...</td>\n",
       "      <td>0</td>\n",
       "      <td>0</td>\n",
       "      <td>0</td>\n",
       "      <td>0</td>\n",
       "      <td>0</td>\n",
       "      <td>0</td>\n",
       "      <td>0</td>\n",
       "      <td>1</td>\n",
       "      <td>1</td>\n",
       "      <td>0</td>\n",
       "    </tr>\n",
       "    <tr>\n",
       "      <th>3</th>\n",
       "      <td>3</td>\n",
       "      <td>10.072639</td>\n",
       "      <td>0</td>\n",
       "      <td>0.0</td>\n",
       "      <td>19.40625</td>\n",
       "      <td>19.40625</td>\n",
       "      <td>1016.0</td>\n",
       "      <td>0.0</td>\n",
       "      <td>0.0</td>\n",
       "      <td>1</td>\n",
       "      <td>...</td>\n",
       "      <td>0</td>\n",
       "      <td>0</td>\n",
       "      <td>0</td>\n",
       "      <td>0</td>\n",
       "      <td>0</td>\n",
       "      <td>0</td>\n",
       "      <td>0</td>\n",
       "      <td>1</td>\n",
       "      <td>1</td>\n",
       "      <td>0</td>\n",
       "    </tr>\n",
       "    <tr>\n",
       "      <th>4</th>\n",
       "      <td>4</td>\n",
       "      <td>11.666573</td>\n",
       "      <td>0</td>\n",
       "      <td>0.0</td>\n",
       "      <td>19.40625</td>\n",
       "      <td>19.40625</td>\n",
       "      <td>1016.0</td>\n",
       "      <td>0.0</td>\n",
       "      <td>0.0</td>\n",
       "      <td>1</td>\n",
       "      <td>...</td>\n",
       "      <td>0</td>\n",
       "      <td>0</td>\n",
       "      <td>0</td>\n",
       "      <td>0</td>\n",
       "      <td>0</td>\n",
       "      <td>0</td>\n",
       "      <td>0</td>\n",
       "      <td>1</td>\n",
       "      <td>1</td>\n",
       "      <td>0</td>\n",
       "    </tr>\n",
       "  </tbody>\n",
       "</table>\n",
       "<p>5 rows × 28 columns</p>\n",
       "</div>\n",
       "      <button class=\"colab-df-convert\" onclick=\"convertToInteractive('df-0eff40da-9351-441f-9da9-a8986f5ef6d1')\"\n",
       "              title=\"Convert this dataframe to an interactive table.\"\n",
       "              style=\"display:none;\">\n",
       "        \n",
       "  <svg xmlns=\"http://www.w3.org/2000/svg\" height=\"24px\"viewBox=\"0 0 24 24\"\n",
       "       width=\"24px\">\n",
       "    <path d=\"M0 0h24v24H0V0z\" fill=\"none\"/>\n",
       "    <path d=\"M18.56 5.44l.94 2.06.94-2.06 2.06-.94-2.06-.94-.94-2.06-.94 2.06-2.06.94zm-11 1L8.5 8.5l.94-2.06 2.06-.94-2.06-.94L8.5 2.5l-.94 2.06-2.06.94zm10 10l.94 2.06.94-2.06 2.06-.94-2.06-.94-.94-2.06-.94 2.06-2.06.94z\"/><path d=\"M17.41 7.96l-1.37-1.37c-.4-.4-.92-.59-1.43-.59-.52 0-1.04.2-1.43.59L10.3 9.45l-7.72 7.72c-.78.78-.78 2.05 0 2.83L4 21.41c.39.39.9.59 1.41.59.51 0 1.02-.2 1.41-.59l7.78-7.78 2.81-2.81c.8-.78.8-2.07 0-2.86zM5.41 20L4 18.59l7.72-7.72 1.47 1.35L5.41 20z\"/>\n",
       "  </svg>\n",
       "      </button>\n",
       "      \n",
       "  <style>\n",
       "    .colab-df-container {\n",
       "      display:flex;\n",
       "      flex-wrap:wrap;\n",
       "      gap: 12px;\n",
       "    }\n",
       "\n",
       "    .colab-df-convert {\n",
       "      background-color: #E8F0FE;\n",
       "      border: none;\n",
       "      border-radius: 50%;\n",
       "      cursor: pointer;\n",
       "      display: none;\n",
       "      fill: #1967D2;\n",
       "      height: 32px;\n",
       "      padding: 0 0 0 0;\n",
       "      width: 32px;\n",
       "    }\n",
       "\n",
       "    .colab-df-convert:hover {\n",
       "      background-color: #E2EBFA;\n",
       "      box-shadow: 0px 1px 2px rgba(60, 64, 67, 0.3), 0px 1px 3px 1px rgba(60, 64, 67, 0.15);\n",
       "      fill: #174EA6;\n",
       "    }\n",
       "\n",
       "    [theme=dark] .colab-df-convert {\n",
       "      background-color: #3B4455;\n",
       "      fill: #D2E3FC;\n",
       "    }\n",
       "\n",
       "    [theme=dark] .colab-df-convert:hover {\n",
       "      background-color: #434B5C;\n",
       "      box-shadow: 0px 1px 3px 1px rgba(0, 0, 0, 0.15);\n",
       "      filter: drop-shadow(0px 1px 2px rgba(0, 0, 0, 0.3));\n",
       "      fill: #FFFFFF;\n",
       "    }\n",
       "  </style>\n",
       "\n",
       "      <script>\n",
       "        const buttonEl =\n",
       "          document.querySelector('#df-0eff40da-9351-441f-9da9-a8986f5ef6d1 button.colab-df-convert');\n",
       "        buttonEl.style.display =\n",
       "          google.colab.kernel.accessAllowed ? 'block' : 'none';\n",
       "\n",
       "        async function convertToInteractive(key) {\n",
       "          const element = document.querySelector('#df-0eff40da-9351-441f-9da9-a8986f5ef6d1');\n",
       "          const dataTable =\n",
       "            await google.colab.kernel.invokeFunction('convertToInteractive',\n",
       "                                                     [key], {});\n",
       "          if (!dataTable) return;\n",
       "\n",
       "          const docLinkHtml = 'Like what you see? Visit the ' +\n",
       "            '<a target=\"_blank\" href=https://colab.research.google.com/notebooks/data_table.ipynb>data table notebook</a>'\n",
       "            + ' to learn more about interactive tables.';\n",
       "          element.innerHTML = '';\n",
       "          dataTable['output_type'] = 'display_data';\n",
       "          await google.colab.output.renderOutput(dataTable, element);\n",
       "          const docLink = document.createElement('div');\n",
       "          docLink.innerHTML = docLinkHtml;\n",
       "          element.appendChild(docLink);\n",
       "        }\n",
       "      </script>\n",
       "    </div>\n",
       "  </div>\n",
       "  "
      ],
      "text/plain": [
       "   building_id  square_feet  meter  meter_reading  air_temperature  \\\n",
       "0            0     8.913685      0            0.0         19.40625   \n",
       "1            1     7.908755      0            0.0         19.40625   \n",
       "2            2     8.589886      0            0.0         19.40625   \n",
       "3            3    10.072639      0            0.0         19.40625   \n",
       "4            4    11.666573      0            0.0         19.40625   \n",
       "\n",
       "   dew_temperature  sea_level_pressure  wind_direction  wind_speed  \\\n",
       "0         19.40625              1016.0             0.0         0.0   \n",
       "1         19.40625              1016.0             0.0         0.0   \n",
       "2         19.40625              1016.0             0.0         0.0   \n",
       "3         19.40625              1016.0             0.0         0.0   \n",
       "4         19.40625              1016.0             0.0         0.0   \n",
       "\n",
       "   primary_use_Education  ...  primary_use_Public services  \\\n",
       "0                      1  ...                            0   \n",
       "1                      1  ...                            0   \n",
       "2                      1  ...                            0   \n",
       "3                      1  ...                            0   \n",
       "4                      1  ...                            0   \n",
       "\n",
       "   primary_use_Religious worship  primary_use_Retail  primary_use_Services  \\\n",
       "0                              0                   0                     0   \n",
       "1                              0                   0                     0   \n",
       "2                              0                   0                     0   \n",
       "3                              0                   0                     0   \n",
       "4                              0                   0                     0   \n",
       "\n",
       "   primary_use_Technology/science  primary_use_Utility  \\\n",
       "0                               0                    0   \n",
       "1                               0                    0   \n",
       "2                               0                    0   \n",
       "3                               0                    0   \n",
       "4                               0                    0   \n",
       "\n",
       "   primary_use_Warehouse/storage  Month  Day  Hour  \n",
       "0                              0      1    1     0  \n",
       "1                              0      1    1     0  \n",
       "2                              0      1    1     0  \n",
       "3                              0      1    1     0  \n",
       "4                              0      1    1     0  \n",
       "\n",
       "[5 rows x 28 columns]"
      ]
     },
     "execution_count": 8,
     "metadata": {},
     "output_type": "execute_result"
    }
   ],
   "source": [
    "merge_df.head()"
   ]
  },
  {
   "cell_type": "code",
   "execution_count": null,
   "metadata": {
    "id": "bvIW9QbNccOe"
   },
   "outputs": [],
   "source": [
    "\n",
    "y=merge_df.meter_reading\n",
    "X=merge_df.drop('meter_reading',axis=1)"
   ]
  },
  {
   "cell_type": "code",
   "execution_count": null,
   "metadata": {
    "id": "n5-fmF4Ff0-4"
   },
   "outputs": [],
   "source": [
    "#train test split\n",
    "X_train, X_test, y_train, y_test = train_test_split(X, y, test_size=0.20, random_state=42)"
   ]
  },
  {
   "cell_type": "code",
   "execution_count": null,
   "metadata": {
    "colab": {
     "base_uri": "https://localhost:8080/"
    },
    "id": "8a_ztbWAgcz4",
    "outputId": "a4ec5a4f-fdb0-4497-e3bc-dcc200bb14a4"
   },
   "outputs": [
    {
     "data": {
      "text/plain": [
       "LinearRegression()"
      ]
     },
     "execution_count": 8,
     "metadata": {},
     "output_type": "execute_result"
    }
   ],
   "source": [
    "# Basline model-LinearRegression\n",
    "model=LinearRegression()\n",
    "model.fit(X_train,y_train)"
   ]
  },
  {
   "cell_type": "code",
   "execution_count": null,
   "metadata": {
    "colab": {
     "base_uri": "https://localhost:8080/"
    },
    "id": "MPIXgzNkjEq0",
    "outputId": "775e2f66-3c06-46ec-fe39-485a0db7b718"
   },
   "outputs": [
    {
     "name": "stdout",
     "output_type": "stream",
     "text": [
      "RMSE of train data: 1.8566802241588658\n",
      "RMSE of test data: 1.8573074235846239\n"
     ]
    }
   ],
   "source": [
    "#predicting test data and train data\n",
    "y_predict_test=model.predict(X_test)\n",
    "y_predict_train=model.predict(X_train)\n",
    "\n",
    "#root mean squared error of test data and train data\n",
    "print(\"RMSE of train data:\",MSE(y_train,y_predict_train,squared=False))\n",
    "print(\"RMSE of test data:\",MSE(y_test,y_predict_test,squared=False))"
   ]
  },
  {
   "cell_type": "markdown",
   "metadata": {
    "id": "suyo6WhJIBlr"
   },
   "source": [
    "# Feature imporatance\n",
    "Here we will use statmodel.OLS to know the feature imporatnace by using only 30% data as we have less RAM"
   ]
  },
  {
   "cell_type": "code",
   "execution_count": null,
   "metadata": {
    "id": "VuDvUJulKnmj"
   },
   "outputs": [],
   "source": [
    "# selecting 30% rows randomly\n",
    "fm_df=merge_df.sample(n =int(merge_df.shape[0]*0.30))"
   ]
  },
  {
   "cell_type": "code",
   "execution_count": null,
   "metadata": {
    "colab": {
     "base_uri": "https://localhost:8080/"
    },
    "id": "CIkLSSLdLpIk",
    "outputId": "1fbf8fdb-a740-4ad4-dd1d-b93b24d40136"
   },
   "outputs": [
    {
     "name": "stdout",
     "output_type": "stream",
     "text": [
      "<class 'pandas.core.frame.DataFrame'>\n",
      "Int64Index: 6064830 entries, 17669256 to 13694298\n",
      "Data columns (total 28 columns):\n",
      " #   Column                                     Dtype  \n",
      "---  ------                                     -----  \n",
      " 0   building_id                                int16  \n",
      " 1   square_feet                                float16\n",
      " 2   meter                                      int8   \n",
      " 3   meter_reading                              float16\n",
      " 4   air_temperature                            float16\n",
      " 5   dew_temperature                            float16\n",
      " 6   sea_level_pressure                         float16\n",
      " 7   wind_direction                             float16\n",
      " 8   wind_speed                                 float16\n",
      " 9   primary_use_Education                      uint8  \n",
      " 10  primary_use_Entertainment/public assembly  uint8  \n",
      " 11  primary_use_Food sales and service         uint8  \n",
      " 12  primary_use_Healthcare                     uint8  \n",
      " 13  primary_use_Lodging/residential            uint8  \n",
      " 14  primary_use_Manufacturing/industrial       uint8  \n",
      " 15  primary_use_Office                         uint8  \n",
      " 16  primary_use_Other                          uint8  \n",
      " 17  primary_use_Parking                        uint8  \n",
      " 18  primary_use_Public services                uint8  \n",
      " 19  primary_use_Religious worship              uint8  \n",
      " 20  primary_use_Retail                         uint8  \n",
      " 21  primary_use_Services                       uint8  \n",
      " 22  primary_use_Technology/science             uint8  \n",
      " 23  primary_use_Utility                        uint8  \n",
      " 24  primary_use_Warehouse/storage              uint8  \n",
      " 25  Month                                      int8   \n",
      " 26  Day                                        int8   \n",
      " 27  Hour                                       int8   \n",
      "dtypes: float16(7), int16(1), int8(4), uint8(16)\n",
      "memory usage: 254.5 MB\n"
     ]
    }
   ],
   "source": [
    "fm_df.info()"
   ]
  },
  {
   "cell_type": "code",
   "execution_count": null,
   "metadata": {
    "id": "VXIdXYh3NNAs"
   },
   "outputs": [],
   "source": [
    "X=fm_df.drop(['meter_reading'],axis=1)\n",
    "y=fm_df.meter_reading"
   ]
  },
  {
   "cell_type": "code",
   "execution_count": null,
   "metadata": {
    "id": "alPjnwsdNfC3"
   },
   "outputs": [],
   "source": [
    "del merge_df,fm_df"
   ]
  },
  {
   "cell_type": "code",
   "execution_count": null,
   "metadata": {
    "colab": {
     "base_uri": "https://localhost:8080/"
    },
    "id": "LXGXtzMIjUcI",
    "outputId": "c04a68cd-2793-4fae-c8cc-96b7647b8b0d"
   },
   "outputs": [
    {
     "name": "stdout",
     "output_type": "stream",
     "text": [
      "                            OLS Regression Results                            \n",
      "==============================================================================\n",
      "Dep. Variable:          meter_reading   R-squared:                       0.236\n",
      "Model:                            OLS   Adj. R-squared:                  0.236\n",
      "Method:                 Least Squares   F-statistic:                 7.211e+04\n",
      "Date:                Thu, 12 Jan 2023   Prob (F-statistic):               0.00\n",
      "Time:                        09:13:34   Log-Likelihood:            -1.2364e+07\n",
      "No. Observations:             6064830   AIC:                         2.473e+07\n",
      "Df Residuals:                 6064803   BIC:                         2.473e+07\n",
      "Df Model:                          26                                         \n",
      "Covariance Type:            nonrobust                                         \n",
      "=============================================================================================================\n",
      "                                                coef    std err          t      P>|t|      [0.025      0.975]\n",
      "-------------------------------------------------------------------------------------------------------------\n",
      "const                                        -5.2645      0.118    -44.753      0.000      -5.495      -5.034\n",
      "building_id                                   0.0006   2.05e-06    277.652      0.000       0.001       0.001\n",
      "square_feet                                   0.8293      0.001   1185.051      0.000       0.828       0.831\n",
      "meter                                        -0.1329      0.001   -152.973      0.000      -0.135      -0.131\n",
      "air_temperature                               0.0134      0.000    112.680      0.000       0.013       0.014\n",
      "dew_temperature                              -0.0071      0.000    -58.294      0.000      -0.007      -0.007\n",
      "sea_level_pressure                           -0.0001      0.000     -1.109      0.267      -0.000       0.000\n",
      "wind_direction                            -3.858e-06   7.65e-06     -0.504      0.614   -1.89e-05    1.11e-05\n",
      "wind_speed                                   -0.0029      0.000     -7.694      0.000      -0.004      -0.002\n",
      "primary_use_Education                        -0.3661      0.008    -46.969      0.000      -0.381      -0.351\n",
      "primary_use_Entertainment/public assembly    -0.4529      0.008    -56.704      0.000      -0.469      -0.437\n",
      "primary_use_Food sales and service            0.4472      0.012     37.047      0.000       0.424       0.471\n",
      "primary_use_Healthcare                       -0.0246      0.009     -2.664      0.008      -0.043      -0.006\n",
      "primary_use_Lodging/residential              -0.6688      0.008    -83.300      0.000      -0.685      -0.653\n",
      "primary_use_Manufacturing/industrial          0.5757      0.012     48.886      0.000       0.553       0.599\n",
      "primary_use_Office                           -0.4397      0.008    -56.240      0.000      -0.455      -0.424\n",
      "primary_use_Other                            -0.4995      0.010    -49.272      0.000      -0.519      -0.480\n",
      "primary_use_Parking                          -1.9744      0.010   -188.237      0.000      -1.995      -1.954\n",
      "primary_use_Public services                  -0.0901      0.008    -11.023      0.000      -0.106      -0.074\n",
      "primary_use_Religious worship                -1.3451      0.019    -70.236      0.000      -1.383      -1.308\n",
      "primary_use_Retail                           -0.6754      0.012    -55.110      0.000      -0.699      -0.651\n",
      "primary_use_Services                         -0.4272      0.013    -33.180      0.000      -0.452      -0.402\n",
      "primary_use_Technology/science               -0.4223      0.014    -30.609      0.000      -0.449      -0.395\n",
      "primary_use_Utility                           1.7030      0.015    110.394      0.000       1.673       1.733\n",
      "primary_use_Warehouse/storage                -0.6042      0.012    -49.252      0.000      -0.628      -0.580\n",
      "Month                                         0.0195      0.000     84.814      0.000       0.019       0.020\n",
      "Day                                           0.0014   8.56e-05     16.229      0.000       0.001       0.002\n",
      "Hour                                          0.0077      0.000     68.652      0.000       0.007       0.008\n",
      "==============================================================================\n",
      "Omnibus:                   604430.219   Durbin-Watson:                   1.999\n",
      "Prob(Omnibus):                  0.000   Jarque-Bera (JB):           912340.717\n",
      "Skew:                          -0.757   Prob(JB):                         0.00\n",
      "Kurtosis:                       4.148   Cond. No.                     2.65e+15\n",
      "==============================================================================\n",
      "\n",
      "Notes:\n",
      "[1] Standard Errors assume that the covariance matrix of the errors is correctly specified.\n",
      "[2] The smallest eigenvalue is 1.54e-18. This might indicate that there are\n",
      "strong multicollinearity problems or that the design matrix is singular.\n"
     ]
    }
   ],
   "source": [
    "X = sm.add_constant(X)\n",
    "est = sm.OLS(y, X)\n",
    "est2=est.fit()\n",
    "print(est2.summary())"
   ]
  },
  {
   "cell_type": "markdown",
   "metadata": {
    "id": "Sz5mBKAWxemS"
   },
   "source": [
    "* From above table we can see that sea_level_pressure and wind_direction have high p-values. This means these two feature have the least feature importance. Hence we will remove them\n",
    "* \"Small p-values imply high levels of importance, whereas high p-values mean that a variable is not statistically significant.\", Source: https://stackoverflow.com/questions/65439843/linear-regression-get-feature-importance-using-minmaxscaler-extremely-larg\n"
   ]
  },
  {
   "cell_type": "markdown",
   "metadata": {
    "id": "T1IuCo1X2TBF"
   },
   "source": [
    "# Linear regression model without outliers (one hot encoding) - Baseline model"
   ]
  },
  {
   "cell_type": "code",
   "execution_count": null,
   "metadata": {
    "id": "aWsi7yR4vPSe"
   },
   "outputs": [],
   "source": [
    "# removing rows whose electricity meter reading is zero \n",
    "idx=list(merge_df[(merge_df['meter_reading']==0) & (merge_df['meter']==0)].index)\n",
    "cleaned_df=merge_df.drop(index=idx)"
   ]
  },
  {
   "cell_type": "code",
   "execution_count": null,
   "metadata": {
    "colab": {
     "base_uri": "https://localhost:8080/"
    },
    "id": "oqQfLaU-KOPG",
    "outputId": "94844b5e-438e-4b3f-c506-d12d3c05ebb4"
   },
   "outputs": [
    {
     "name": "stdout",
     "output_type": "stream",
     "text": [
      "total outliers removed: 2153818\n"
     ]
    }
   ],
   "source": [
    "''' removing outliers of meter_readings by using ineterquirtile range method. In this i am removing outliers for each meter type. \n",
    " In this i am finding the interquartile range(IQR) for each meter type and i am treating the values as outliers of specific meter type which \n",
    " are outside of the that IQR corresponding to that meter type.\n",
    " source for IQR method: https://machinelearningmastery.com/how-to-use-statistics-to-identify-outliers-in-data/ '''\n",
    "total=0\n",
    "for i in range(4):\n",
    "  data=cleaned_df[cleaned_df['meter']==i]['meter_reading']\n",
    "  q25=data.quantile(q=0.25)\n",
    "  q75=data.quantile(q=0.75)\n",
    "  iqr = q75 - q25\n",
    "  \n",
    "  # calculate the outlier cutoff\n",
    "  cut_off = iqr * 1.5\n",
    "  upper =  q75 + cut_off\n",
    "\n",
    "  #getting index of outliers\n",
    "  outliers_idx=list(cleaned_df[(cleaned_df['meter']==i) & (cleaned_df['meter_reading']>upper)].index)\n",
    "\n",
    "  #removing outliers\n",
    "  cleaned_df=cleaned_df.drop(index=outliers_idx)\n",
    "  total+= len(outliers_idx)\n",
    "print(\"total outliers removed:\",total)"
   ]
  },
  {
   "cell_type": "code",
   "execution_count": null,
   "metadata": {
    "colab": {
     "base_uri": "https://localhost:8080/"
    },
    "id": "ELgCk2er09Zb",
    "outputId": "ed89485f-c74b-41e3-cb17-e0296ade3957"
   },
   "outputs": [
    {
     "name": "stdout",
     "output_type": "stream",
     "text": [
      "13.276482605448138 % of meter readings were outliers\n"
     ]
    }
   ],
   "source": [
    "x=100-(len(cleaned_df)/len(merge_df)*100)\n",
    "print(x,\"% of meter readings were outliers\")"
   ]
  },
  {
   "cell_type": "code",
   "execution_count": null,
   "metadata": {
    "colab": {
     "base_uri": "https://localhost:8080/",
     "height": 554
    },
    "id": "ElLOijQY8MOB",
    "outputId": "8fd9bcd0-8957-4f8d-c197-c75595a2d34f"
   },
   "outputs": [
    {
     "data": {
      "image/png": "[encoded data removed]",
      "text/plain": [
       "<Figure size 1080x576 with 4 Axes>"
      ]
     },
     "metadata": {
      "needs_background": "light"
     },
     "output_type": "display_data"
    }
   ],
   "source": [
    "# plotting building id vs meter reading for each meter type\n",
    "fig,ax=plt.subplots(2,2,figsize=(15,8))\n",
    "fig.suptitle(\"meter_reading vs building id (without outliers)\")\n",
    "\n",
    "# electricity meter\n",
    "x1=cleaned_df[cleaned_df['meter']==0][['meter','meter_reading','building_id']]\n",
    "sns.lineplot(ax=ax[0,0],x=list(x1.building_id),y=list(x1.meter_reading))\n",
    "ax[0,0].set(title=\"electricity\",xlabel='building id',ylabel='meter_reading')\n",
    "ax\n",
    "gc.collect()\n",
    "\n",
    "# chilled water meter\n",
    "x1=cleaned_df[cleaned_df['meter']==1][['meter','meter_reading','building_id']]\n",
    "sns.lineplot(ax=ax[0,1],x=list(x1.building_id),y=list(x1.meter_reading))\n",
    "ax[0,1].set(title=\"chilled water meter\",xlabel='building id',ylabel='meter_reading')\n",
    "gc.collect()\n",
    "\n",
    "#steam meter\n",
    "x1=cleaned_df[cleaned_df['meter']==2][['meter','meter_reading','building_id']]\n",
    "sns.lineplot(ax=ax[1,0],x=list(x1.building_id),y=list(x1.building_id))\n",
    "ax[1,0].set(title=\"steam meter\",xlabel='building id',ylabel='meter_reading')\n",
    "gc.collect()\n",
    "\n",
    "# hot water meter\n",
    "x1=cleaned_df[cleaned_df['meter']==3][['meter','meter_reading','building_id']]\n",
    "sns.lineplot(ax=ax[1,1],x=list(x1.building_id),y=list(x1.meter_reading))\n",
    "ax[1,1].set(title=\"hot water meter\",xlabel='building id',ylabel='meter_reading')\n",
    "\n",
    "plt.show()"
   ]
  },
  {
   "cell_type": "markdown",
   "metadata": {
    "id": "sG2CA8ZhL2pD"
   },
   "source": [
    "Now we don't see any unusual spikes."
   ]
  },
  {
   "cell_type": "code",
   "execution_count": null,
   "metadata": {
    "id": "n1fVITngrceV"
   },
   "outputs": [],
   "source": [
    "# saving dataframe(outliers removed)\n",
    "with open(\"/content/drive/MyDrive/cleaned_df.pkl\",\"wb\") as f:\n",
    "  pickle.dump(cleaned_df,f)"
   ]
  },
  {
   "cell_type": "code",
   "execution_count": null,
   "metadata": {
    "id": "EuUTLwC3sNv8"
   },
   "outputs": [],
   "source": [
    "#converting meter readings and square feet value to logarathmic values\n",
    "cleaned_df['meter_reading'] = np.log1p(cleaned_df['meter_reading'])\n",
    "cleaned_df['square_feet'] = np.log1p(cleaned_df['square_feet'])\n",
    "\n",
    "#resetting index\n",
    "cleaned_df=cleaned_df.reset_index()\n"
   ]
  },
  {
   "cell_type": "code",
   "execution_count": null,
   "metadata": {
    "id": "H3HNvZmmww6_"
   },
   "outputs": [],
   "source": [
    "# adding month, day and hour feature\n",
    "cleaned_df['Month']=pd.DatetimeIndex(cleaned_df['timestamp']).month\n",
    "cleaned_df['Day']=pd.DatetimeIndex(cleaned_df['timestamp']).day\n",
    "cleaned_df['Hour']=pd.DatetimeIndex(cleaned_df['timestamp']).hour\n",
    "\n",
    "# vectorizing primary_use\n",
    "cleaned_df=pd.get_dummies(cleaned_df, columns=['primary_use'])"
   ]
  },
  {
   "cell_type": "code",
   "execution_count": null,
   "metadata": {
    "colab": {
     "base_uri": "https://localhost:8080/"
    },
    "id": "tSTUDKDwMwIE",
    "outputId": "5c23de08-cd0a-4319-d499-69f1355c0882"
   },
   "outputs": [
    {
     "name": "stdout",
     "output_type": "stream",
     "text": [
      "<class 'pandas.core.frame.DataFrame'>\n",
      "RangeIndex: 17532113 entries, 0 to 17532112\n",
      "Data columns (total 31 columns):\n",
      " #   Column                                     Dtype         \n",
      "---  ------                                     -----         \n",
      " 0   index                                      int64         \n",
      " 1   site_id                                    int8          \n",
      " 2   building_id                                int16         \n",
      " 3   square_feet                                float64       \n",
      " 4   meter                                      int8          \n",
      " 5   timestamp                                  datetime64[ns]\n",
      " 6   meter_reading                              float32       \n",
      " 7   air_temperature                            float16       \n",
      " 8   dew_temperature                            float16       \n",
      " 9   sea_level_pressure                         float16       \n",
      " 10  wind_direction                             float16       \n",
      " 11  wind_speed                                 float16       \n",
      " 12  Month                                      int64         \n",
      " 13  Day                                        int64         \n",
      " 14  Hour                                       int64         \n",
      " 15  primary_use_Education                      uint8         \n",
      " 16  primary_use_Entertainment/public assembly  uint8         \n",
      " 17  primary_use_Food sales and service         uint8         \n",
      " 18  primary_use_Healthcare                     uint8         \n",
      " 19  primary_use_Lodging/residential            uint8         \n",
      " 20  primary_use_Manufacturing/industrial       uint8         \n",
      " 21  primary_use_Office                         uint8         \n",
      " 22  primary_use_Other                          uint8         \n",
      " 23  primary_use_Parking                        uint8         \n",
      " 24  primary_use_Public services                uint8         \n",
      " 25  primary_use_Religious worship              uint8         \n",
      " 26  primary_use_Retail                         uint8         \n",
      " 27  primary_use_Services                       uint8         \n",
      " 28  primary_use_Technology/science             uint8         \n",
      " 29  primary_use_Utility                        uint8         \n",
      " 30  primary_use_Warehouse/storage              uint8         \n",
      "dtypes: datetime64[ns](1), float16(5), float32(1), float64(1), int16(1), int64(4), int8(2), uint8(16)\n",
      "memory usage: 1.3 GB\n"
     ]
    }
   ],
   "source": [
    "cleaned_df.info()"
   ]
  },
  {
   "cell_type": "markdown",
   "metadata": {
    "id": "hS1GPHylwQN-"
   },
   "source": [
    "After removing of outliers train data contains more than 17.5 million data points."
   ]
  },
  {
   "cell_type": "code",
   "execution_count": null,
   "metadata": {
    "id": "IqebDivIMomv"
   },
   "outputs": [],
   "source": [
    "# dropping timestamp, sea_level_pressure, wind_direction and old index column\n",
    "Featured_df=cleaned_df.drop(['timestamp','index','sea_level_pressure','wind_direction'],axis=1)\n",
    "\n",
    "del cleaned_df"
   ]
  },
  {
   "cell_type": "code",
   "execution_count": null,
   "metadata": {
    "colab": {
     "base_uri": "https://localhost:8080/"
    },
    "id": "mpe0zCUdRf7Y",
    "outputId": "65e08fac-107e-46de-c3e0-66c162e76997"
   },
   "outputs": [
    {
     "name": "stdout",
     "output_type": "stream",
     "text": [
      "   building_id  square_feet  meter  meter_reading  air_temperature  \\\n",
      "0           46     9.110078      0       2.809677        19.406250   \n",
      "1           74    12.867830      0       2.610340        19.406250   \n",
      "2           93    10.415443      0       2.795113        19.406250   \n",
      "3          105    10.832181      0       3.190624         3.800781   \n",
      "4          106     8.589514      0       0.318163         3.800781   \n",
      "\n",
      "   dew_temperature  wind_speed  Month  Day  Hour  ...  primary_use_Office  \\\n",
      "0        19.406250    0.000000      1    1     0  ...                   0   \n",
      "1        19.406250    0.000000      1    1     0  ...                   0   \n",
      "2        19.406250    0.000000      1    1     0  ...                   1   \n",
      "3         2.400391    3.099609      1    1     0  ...                   0   \n",
      "4         2.400391    3.099609      1    1     0  ...                   0   \n",
      "\n",
      "   primary_use_Other  primary_use_Parking  primary_use_Public services  \\\n",
      "0                  0                    0                            0   \n",
      "1                  0                    1                            0   \n",
      "2                  0                    0                            0   \n",
      "3                  0                    0                            0   \n",
      "4                  0                    0                            0   \n",
      "\n",
      "   primary_use_Religious worship  primary_use_Retail  primary_use_Services  \\\n",
      "0                              0                   1                     0   \n",
      "1                              0                   0                     0   \n",
      "2                              0                   0                     0   \n",
      "3                              0                   0                     0   \n",
      "4                              0                   0                     0   \n",
      "\n",
      "   primary_use_Technology/science  primary_use_Utility  \\\n",
      "0                               0                    0   \n",
      "1                               0                    0   \n",
      "2                               0                    0   \n",
      "3                               0                    0   \n",
      "4                               0                    0   \n",
      "\n",
      "   primary_use_Warehouse/storage  \n",
      "0                              0  \n",
      "1                              0  \n",
      "2                              0  \n",
      "3                              0  \n",
      "4                              0  \n",
      "\n",
      "[5 rows x 26 columns]\n"
     ]
    }
   ],
   "source": [
    "print(Featured_df.head())"
   ]
  },
  {
   "cell_type": "code",
   "execution_count": null,
   "metadata": {
    "id": "Cp7LNFr0H0Ol"
   },
   "outputs": [],
   "source": [
    "#saving the datafarme\n",
    "with open(\"/content/drive/MyDrive/Featured_df.pkl\",\"wb\") as f:\n",
    "  pickle.dump(Featured_df,f)"
   ]
  },
  {
   "cell_type": "code",
   "execution_count": null,
   "metadata": {
    "id": "PpdH_DwQT6wu"
   },
   "outputs": [],
   "source": [
    "#loading dataframe\n",
    "with open(\"/content/drive/MyDrive/Featured_df.pkl\",\"rb\") as f:\n",
    "  Featured_df=pickle.load(f)"
   ]
  },
  {
   "cell_type": "code",
   "execution_count": null,
   "metadata": {
    "id": "U8dVLJTmyUWJ"
   },
   "outputs": [],
   "source": [
    "y=Featured_df.meter_reading\n",
    "X=Featured_df.drop('meter_reading',axis=1)"
   ]
  },
  {
   "cell_type": "code",
   "execution_count": null,
   "metadata": {
    "colab": {
     "base_uri": "https://localhost:8080/"
    },
    "id": "NIGNa6URTb-y",
    "outputId": "59331870-2934-4e8c-9728-b8b433616b28"
   },
   "outputs": [
    {
     "data": {
      "text/plain": [
       "62"
      ]
     },
     "execution_count": 7,
     "metadata": {},
     "output_type": "execute_result"
    }
   ],
   "source": [
    "del Featured_df\n",
    "gc.collect()"
   ]
  },
  {
   "cell_type": "code",
   "execution_count": null,
   "metadata": {
    "id": "yYJh2QLb2V2p"
   },
   "outputs": [],
   "source": [
    "#train test split\n",
    "X_train, X_test, y_train, y_test = train_test_split(X, y, test_size=0.20, random_state=42)"
   ]
  },
  {
   "cell_type": "code",
   "execution_count": null,
   "metadata": {
    "id": "DcCYFdxNxo35"
   },
   "outputs": [],
   "source": [
    "del X,y"
   ]
  },
  {
   "cell_type": "code",
   "execution_count": null,
   "metadata": {
    "colab": {
     "base_uri": "https://localhost:8080/"
    },
    "id": "Z1H7764nSH7P",
    "outputId": "58edc16d-a9ad-4b25-86b1-36ebdfd71f60"
   },
   "outputs": [
    {
     "data": {
      "text/plain": [
       "LinearRegression()"
      ]
     },
     "execution_count": 10,
     "metadata": {},
     "output_type": "execute_result"
    }
   ],
   "source": [
    "# Basline model-LinearRegression\n",
    "model=LinearRegression()\n",
    "model.fit(X_train,y_train)\n"
   ]
  },
  {
   "cell_type": "code",
   "execution_count": null,
   "metadata": {
    "colab": {
     "base_uri": "https://localhost:8080/"
    },
    "id": "MUfpX5qpXZ3E",
    "outputId": "cc20fbda-260c-48ad-d3e7-bf85c74ef775"
   },
   "outputs": [
    {
     "name": "stdout",
     "output_type": "stream",
     "text": [
      "RMSE of train data: 1.6644649643467249\n",
      "RMSE of test data: 1.6662979002408054\n"
     ]
    }
   ],
   "source": [
    "\n",
    "#predicting test data and train data\n",
    "y_predict_test=model.predict(X_test)\n",
    "y_predict_train=model.predict(X_train)\n",
    "\n",
    "#root mean squared error of test data and train data\n",
    "print(\"RMSE of train data:\",MSE(y_train,y_predict_train,squared=False))\n",
    "print(\"RMSE of test data:\",MSE(y_test,y_predict_test,squared=False))"
   ]
  }
 ],
 "metadata": {
  "colab": {
   "provenance": []
  },
  "kernelspec": {
   "display_name": "Python 3 (ipykernel)",
   "language": "python",
   "name": "python3"
  },
  "language_info": {
   "codemirror_mode": {
    "name": "ipython",
    "version": 3
   },
   "file_extension": ".py",
   "mimetype": "text/x-python",
   "name": "python",
   "nbconvert_exporter": "python",
   "pygments_lexer": "ipython3",
   "version": "3.10.8"
  }
 },
 "nbformat": 4,
 "nbformat_minor": 1
}
