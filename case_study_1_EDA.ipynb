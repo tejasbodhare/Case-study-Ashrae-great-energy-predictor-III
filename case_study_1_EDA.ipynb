{
 "cells": [
  {
   "cell_type": "code",
   "execution_count": 1,
   "metadata": {
    "id": "L1VjFmREfw44"
   },
   "outputs": [],
   "source": [
    "from zipfile import ZipFile\n",
    "import os\n",
    "import pandas as pd\n",
    "import numpy as np\n",
    "import pickle\n",
    "import datetime as dt\n",
    "import warnings\n",
    "warnings.filterwarnings(\"ignore\")\n",
    "import matplotlib.pyplot as plt\n",
    "import seaborn as sns\n",
    "from sklearn.impute import SimpleImputer\n",
    "import gc"
   ]
  },
  {
   "cell_type": "code",
   "execution_count": null,
   "metadata": {
    "id": "lOEuajYD1GL4"
   },
   "outputs": [],
   "source": [
    "# extracting files from ahsrae-energy-prediction.zip file\n",
    "with ZipFile('/content/drive/MyDrive/ashrae-energy-prediction.zip', 'r') as zipObj:\n",
    "  zipObj.extractall('energy_prediction')"
   ]
  },
  {
   "cell_type": "markdown",
   "metadata": {
    "id": "EvB_pj_Jz5uJ"
   },
   "source": [
    "# Loading and Exploring of the files before merging"
   ]
  },
  {
   "cell_type": "code",
   "execution_count": null,
   "metadata": {
    "colab": {
     "base_uri": "https://localhost:8080/"
    },
    "id": "5Vcj09D39ENy",
    "outputId": "c1d8b779-3979-4d7a-d35e-2e6e7ed0f824"
   },
   "outputs": [
    {
     "name": "stdout",
     "output_type": "stream",
     "text": [
      "<class 'pandas.core.frame.DataFrame'>\n",
      "RangeIndex: 1449 entries, 0 to 1448\n",
      "Data columns (total 6 columns):\n",
      " #   Column       Non-Null Count  Dtype  \n",
      "---  ------       --------------  -----  \n",
      " 0   site_id      1449 non-null   int64  \n",
      " 1   building_id  1449 non-null   int64  \n",
      " 2   primary_use  1449 non-null   object \n",
      " 3   square_feet  1449 non-null   int64  \n",
      " 4   year_built   675 non-null    float64\n",
      " 5   floor_count  355 non-null    float64\n",
      "dtypes: float64(2), int64(3), object(1)\n",
      "memory usage: 68.0+ KB\n"
     ]
    }
   ],
   "source": [
    "#loading building_meta into a datafarme\n",
    "building_metadata=pd.read_csv('/content/energy_prediction/building_metadata.csv')\n",
    "building_metadata.info()"
   ]
  },
  {
   "cell_type": "code",
   "execution_count": null,
   "metadata": {
    "colab": {
     "base_uri": "https://localhost:8080/"
    },
    "id": "9Wvwos5GNjkD",
    "outputId": "20c463e4-8711-41b8-aee6-d02851d19858"
   },
   "outputs": [
    {
     "name": "stdout",
     "output_type": "stream",
     "text": [
      "<class 'pandas.core.frame.DataFrame'>\n",
      "RangeIndex: 20216100 entries, 0 to 20216099\n",
      "Data columns (total 4 columns):\n",
      " #   Column         Dtype         \n",
      "---  ------         -----         \n",
      " 0   building_id    int64         \n",
      " 1   meter          int64         \n",
      " 2   timestamp      datetime64[ns]\n",
      " 3   meter_reading  float64       \n",
      "dtypes: datetime64[ns](1), float64(1), int64(2)\n",
      "memory usage: 616.9 MB\n"
     ]
    }
   ],
   "source": [
    "#loading train.csv into a datafarme\n",
    "train=pd.read_csv('/content/energy_prediction/train.csv',parse_dates=['timestamp'])\n",
    "train.info()"
   ]
  },
  {
   "cell_type": "code",
   "execution_count": null,
   "metadata": {
    "colab": {
     "base_uri": "https://localhost:8080/"
    },
    "id": "Bm12qoX7PlDz",
    "outputId": "5472b257-a789-4fc9-bda2-cc678a018674"
   },
   "outputs": [
    {
     "name": "stdout",
     "output_type": "stream",
     "text": [
      "<class 'pandas.core.frame.DataFrame'>\n",
      "RangeIndex: 139773 entries, 0 to 139772\n",
      "Data columns (total 9 columns):\n",
      " #   Column              Non-Null Count   Dtype         \n",
      "---  ------              --------------   -----         \n",
      " 0   site_id             139773 non-null  int64         \n",
      " 1   timestamp           139773 non-null  datetime64[ns]\n",
      " 2   air_temperature     139718 non-null  float64       \n",
      " 3   cloud_coverage      70600 non-null   float64       \n",
      " 4   dew_temperature     139660 non-null  float64       \n",
      " 5   precip_depth_1_hr   89484 non-null   float64       \n",
      " 6   sea_level_pressure  129155 non-null  float64       \n",
      " 7   wind_direction      133505 non-null  float64       \n",
      " 8   wind_speed          139469 non-null  float64       \n",
      "dtypes: datetime64[ns](1), float64(7), int64(1)\n",
      "memory usage: 9.6 MB\n"
     ]
    }
   ],
   "source": [
    "# loading weather_train file\n",
    "weather_train=pd.read_csv('/content/energy_prediction/weather_train.csv',parse_dates=['timestamp'])\n",
    "weather_train.info()"
   ]
  },
  {
   "cell_type": "code",
   "execution_count": null,
   "metadata": {
    "id": "0zcNPnIuC4Ab"
   },
   "outputs": [],
   "source": [
    "#code copied from: https://www.kaggle.com/code/kyakovlev/ashrae-data-minification/notebook\n",
    "def reduce_mem_usage(df, verbose=True):\n",
    "    '''This function reduces the size of  dataframe '''\n",
    "    \n",
    "    numerics = ['int16', 'int32', 'int64', 'float16', 'float32', 'float64']\n",
    "    start_mem = df.memory_usage().sum() / 1024**2    \n",
    "    for col in df.columns:\n",
    "        col_type = df[col].dtypes\n",
    "        if col_type in numerics:\n",
    "            c_min = df[col].min()\n",
    "            c_max = df[col].max()\n",
    "            if str(col_type)[:3] == 'int':\n",
    "                if c_min > np.iinfo(np.int8).min and c_max < np.iinfo(np.int8).max:\n",
    "                    df[col] = df[col].astype(np.int8)\n",
    "                elif c_min > np.iinfo(np.int16).min and c_max < np.iinfo(np.int16).max:\n",
    "                    df[col] = df[col].astype(np.int16)\n",
    "                elif c_min > np.iinfo(np.int32).min and c_max < np.iinfo(np.int32).max:\n",
    "                    df[col] = df[col].astype(np.int32)\n",
    "                elif c_min > np.iinfo(np.int64).min and c_max < np.iinfo(np.int64).max:\n",
    "                    df[col] = df[col].astype(np.int64)  \n",
    "            else:\n",
    "                if c_min > np.finfo(np.float16).min and c_max < np.finfo(np.float16).max:\n",
    "                    df[col] = df[col].astype(np.float16)\n",
    "                elif c_min > np.finfo(np.float32).min and c_max < np.finfo(np.float32).max:\n",
    "                    df[col] = df[col].astype(np.float32)\n",
    "                else:\n",
    "                    df[col] = df[col].astype(np.float64)    \n",
    "    end_mem = df.memory_usage().sum() / 1024**2\n",
    "    if verbose: print('Mem. usage decreased to {:5.2f} Mb ({:.1f}% reduction)'.format(end_mem, 100 * (start_mem - end_mem) / start_mem))\n",
    "    return df"
   ]
  },
  {
   "cell_type": "code",
   "execution_count": null,
   "metadata": {
    "colab": {
     "base_uri": "https://localhost:8080/"
    },
    "id": "jqc8-qswDIFP",
    "outputId": "5b843cdd-baa3-490d-f0a3-3675b93779f1"
   },
   "outputs": [
    {
     "name": "stdout",
     "output_type": "stream",
     "text": [
      "Mem. usage decreased to 289.19 Mb (53.1% reduction)\n",
      "Mem. usage decreased to  0.03 Mb (60.3% reduction)\n",
      "Mem. usage decreased to  3.07 Mb (68.1% reduction)\n"
     ]
    }
   ],
   "source": [
    "# reducing size of data farmes\n",
    "train=reduce_mem_usage(train)\n",
    "building_metadata=reduce_mem_usage(building_metadata)\n",
    "weather_train=reduce_mem_usage(weather_train)"
   ]
  },
  {
   "cell_type": "code",
   "execution_count": null,
   "metadata": {
    "colab": {
     "base_uri": "https://localhost:8080/"
    },
    "id": "eNRt_NVLxek9",
    "outputId": "6fd7a6c3-33e2-4eec-e034-98833c096267"
   },
   "outputs": [
    {
     "name": "stdout",
     "output_type": "stream",
     "text": [
      "<class 'pandas.core.frame.DataFrame'>\n",
      "Int64Index: 20216100 entries, 0 to 20216099\n",
      "Data columns (total 9 columns):\n",
      " #   Column         Dtype         \n",
      "---  ------         -----         \n",
      " 0   site_id        int8          \n",
      " 1   building_id    int16         \n",
      " 2   primary_use    object        \n",
      " 3   square_feet    int32         \n",
      " 4   year_built     float16       \n",
      " 5   floor_count    float16       \n",
      " 6   meter          int8          \n",
      " 7   timestamp      datetime64[ns]\n",
      " 8   meter_reading  float32       \n",
      "dtypes: datetime64[ns](1), float16(2), float32(1), int16(1), int32(1), int8(2), object(1)\n",
      "memory usage: 771.2+ MB\n"
     ]
    }
   ],
   "source": [
    "#merging train and building_metadata. we will merge weather_train afetr timesatmp alignment\n",
    "merge_df=building_metadata.merge(train,on='building_id',how='right')\n",
    "merge_df.info()"
   ]
  },
  {
   "cell_type": "code",
   "execution_count": null,
   "metadata": {
    "colab": {
     "base_uri": "https://localhost:8080/"
    },
    "id": "QEvrQ4ADWzg2",
    "outputId": "0fe617da-d9ae-40cb-db81-5c34a2de3ec8"
   },
   "outputs": [
    {
     "data": {
      "text/plain": [
       "site_id           0.000000\n",
       "building_id       0.000000\n",
       "primary_use       0.000000\n",
       "square_feet       0.000000\n",
       "year_built       59.990033\n",
       "floor_count      82.652772\n",
       "meter             0.000000\n",
       "timestamp         0.000000\n",
       "meter_reading     0.000000\n",
       "dtype: float64"
      ]
     },
     "execution_count": 10,
     "metadata": {},
     "output_type": "execute_result"
    }
   ],
   "source": [
    "# checking percentage of nan values in each column\n",
    "merge_df.isna().sum()/len(merge_df)*100"
   ]
  },
  {
   "cell_type": "markdown",
   "metadata": {
    "id": "P2brGQGhZB8w"
   },
   "source": [
    "Observation: Only year_built and floor_count contains missing values"
   ]
  },
  {
   "cell_type": "code",
   "execution_count": null,
   "metadata": {
    "colab": {
     "base_uri": "https://localhost:8080/"
    },
    "id": "mBRBo9Fna7UA",
    "outputId": "7c7f7198-a80b-4e62-a991-d9a92a67047b"
   },
   "outputs": [
    {
     "name": "stdout",
     "output_type": "stream",
     "text": [
      "<class 'pandas.core.frame.DataFrame'>\n",
      "Int64Index: 20216100 entries, 0 to 20216099\n",
      "Data columns (total 7 columns):\n",
      " #   Column         Dtype         \n",
      "---  ------         -----         \n",
      " 0   site_id        int8          \n",
      " 1   building_id    int16         \n",
      " 2   primary_use    object        \n",
      " 3   square_feet    int32         \n",
      " 4   meter          int8          \n",
      " 5   timestamp      datetime64[ns]\n",
      " 6   meter_reading  float32       \n",
      "dtypes: datetime64[ns](1), float32(1), int16(1), int32(1), int8(2), object(1)\n",
      "memory usage: 694.1+ MB\n"
     ]
    }
   ],
   "source": [
    "#removing columns with high percent of nan values from mergr_df\n",
    "del merge_df['floor_count']\n",
    "del merge_df['year_built']\n",
    "merge_df.info()"
   ]
  },
  {
   "cell_type": "code",
   "execution_count": null,
   "metadata": {
    "id": "EDExbxG0QEs7"
   },
   "outputs": [],
   "source": [
    "#saving merge_df to drive\n",
    "with open(\"/content/drive/MyDrive/merge_df.pkl\",'wb') as f:\n",
    "  pickle.dump(merge_df,f)"
   ]
  },
  {
   "cell_type": "code",
   "execution_count": null,
   "metadata": {
    "colab": {
     "base_uri": "https://localhost:8080/"
    },
    "id": "HYJ18f5ebqM4",
    "outputId": "407f21c5-9313-4ba1-9cb5-6e1ad54f93fa"
   },
   "outputs": [
    {
     "data": {
      "text/plain": [
       "site_id                0.000000\n",
       "timestamp              0.000000\n",
       "air_temperature        0.039350\n",
       "cloud_coverage        49.489529\n",
       "dew_temperature        0.080845\n",
       "precip_depth_1_hr     35.979052\n",
       "sea_level_pressure     7.596603\n",
       "wind_direction         4.484414\n",
       "wind_speed             0.217496\n",
       "dtype: float64"
      ]
     },
     "execution_count": 13,
     "metadata": {},
     "output_type": "execute_result"
    }
   ],
   "source": [
    "#checking percentage of nan values of each column in weather_train\n",
    "weather_train.isna().sum()/len(weather_train)*100"
   ]
  },
  {
   "cell_type": "markdown",
   "metadata": {
    "id": "P6i3rcW4ZSHg"
   },
   "source": [
    "Observation: in weather train only cloud_coverage, precip_depth_1_hr, sea_level_presuure, wind_direction and wind speed contain missing values. But we see that sea_level_presuure, wind_direction and wind speed has very low percentage of missing values."
   ]
  },
  {
   "cell_type": "code",
   "execution_count": null,
   "metadata": {
    "colab": {
     "base_uri": "https://localhost:8080/"
    },
    "id": "-MnfZXEhb7wP",
    "outputId": "a135a242-5c41-4dcc-e87f-95c58b502eac"
   },
   "outputs": [
    {
     "name": "stdout",
     "output_type": "stream",
     "text": [
      "<class 'pandas.core.frame.DataFrame'>\n",
      "RangeIndex: 139773 entries, 0 to 139772\n",
      "Data columns (total 7 columns):\n",
      " #   Column              Non-Null Count   Dtype         \n",
      "---  ------              --------------   -----         \n",
      " 0   site_id             139773 non-null  int8          \n",
      " 1   timestamp           139773 non-null  datetime64[ns]\n",
      " 2   air_temperature     139718 non-null  float16       \n",
      " 3   dew_temperature     139660 non-null  float16       \n",
      " 4   sea_level_pressure  129155 non-null  float16       \n",
      " 5   wind_direction      133505 non-null  float16       \n",
      " 6   wind_speed          139469 non-null  float16       \n",
      "dtypes: datetime64[ns](1), float16(5), int8(1)\n",
      "memory usage: 2.5 MB\n"
     ]
    }
   ],
   "source": [
    "#removing columns which conain high number of nan values from weather tarin\n",
    "del weather_train['cloud_coverage']\n",
    "del weather_train['precip_depth_1_hr']\n",
    "weather_train.info()"
   ]
  },
  {
   "cell_type": "markdown",
   "metadata": {
    "id": "LuKkKRZXlaf3"
   },
   "source": [
    "# **Weather_train time stamp alignment**"
   ]
  },
  {
   "cell_type": "markdown",
   "metadata": {
    "id": "L4yoetiigre0"
   },
   "source": [
    "Checking for timestamp descrepency:\n"
   ]
  },
  {
   "cell_type": "code",
   "execution_count": null,
   "metadata": {
    "colab": {
     "base_uri": "https://localhost:8080/",
     "height": 331
    },
    "id": "Yh_6yuxyfR3T",
    "outputId": "efc07186-f07e-44d2-e693-4455f4a3cb1e"
   },
   "outputs": [
    {
     "data": {
      "text/html": [
       "\n",
       "  <div id=\"df-4f8e979e-4c40-4921-a8e9-aae5695eb13f\">\n",
       "    <div class=\"colab-df-container\">\n",
       "      <div>\n",
       "<style scoped>\n",
       "    .dataframe tbody tr th:only-of-type {\n",
       "        vertical-align: middle;\n",
       "    }\n",
       "\n",
       "    .dataframe tbody tr th {\n",
       "        vertical-align: top;\n",
       "    }\n",
       "\n",
       "    .dataframe thead th {\n",
       "        text-align: right;\n",
       "    }\n",
       "</style>\n",
       "<table border=\"1\" class=\"dataframe\">\n",
       "  <thead>\n",
       "    <tr style=\"text-align: right;\">\n",
       "      <th>timestamp</th>\n",
       "      <th>0</th>\n",
       "      <th>1</th>\n",
       "      <th>2</th>\n",
       "      <th>3</th>\n",
       "      <th>4</th>\n",
       "      <th>5</th>\n",
       "      <th>6</th>\n",
       "      <th>7</th>\n",
       "      <th>8</th>\n",
       "      <th>9</th>\n",
       "      <th>...</th>\n",
       "      <th>14</th>\n",
       "      <th>15</th>\n",
       "      <th>16</th>\n",
       "      <th>17</th>\n",
       "      <th>18</th>\n",
       "      <th>19</th>\n",
       "      <th>20</th>\n",
       "      <th>21</th>\n",
       "      <th>22</th>\n",
       "      <th>23</th>\n",
       "    </tr>\n",
       "    <tr>\n",
       "      <th>site_id</th>\n",
       "      <th></th>\n",
       "      <th></th>\n",
       "      <th></th>\n",
       "      <th></th>\n",
       "      <th></th>\n",
       "      <th></th>\n",
       "      <th></th>\n",
       "      <th></th>\n",
       "      <th></th>\n",
       "      <th></th>\n",
       "      <th></th>\n",
       "      <th></th>\n",
       "      <th></th>\n",
       "      <th></th>\n",
       "      <th></th>\n",
       "      <th></th>\n",
       "      <th></th>\n",
       "      <th></th>\n",
       "      <th></th>\n",
       "      <th></th>\n",
       "      <th></th>\n",
       "    </tr>\n",
       "  </thead>\n",
       "  <tbody>\n",
       "    <tr>\n",
       "      <th>0</th>\n",
       "      <td>15.219945</td>\n",
       "      <td>13.342896</td>\n",
       "      <td>11.927596</td>\n",
       "      <td>10.618852</td>\n",
       "      <td>9.524590</td>\n",
       "      <td>8.079235</td>\n",
       "      <td>6.971311</td>\n",
       "      <td>5.808743</td>\n",
       "      <td>4.898630</td>\n",
       "      <td>4.352055</td>\n",
       "      <td>...</td>\n",
       "      <td>13.911202</td>\n",
       "      <td>16.273224</td>\n",
       "      <td>18.124317</td>\n",
       "      <td>19.501366</td>\n",
       "      <td>20.579235</td>\n",
       "      <td>21.325137</td>\n",
       "      <td>21.110656</td>\n",
       "      <td>20.045082</td>\n",
       "      <td>18.155738</td>\n",
       "      <td>15.747268</td>\n",
       "    </tr>\n",
       "    <tr>\n",
       "      <th>1</th>\n",
       "      <td>8.817308</td>\n",
       "      <td>7.635989</td>\n",
       "      <td>6.647945</td>\n",
       "      <td>5.532787</td>\n",
       "      <td>4.775956</td>\n",
       "      <td>4.650273</td>\n",
       "      <td>5.389344</td>\n",
       "      <td>7.281421</td>\n",
       "      <td>9.328767</td>\n",
       "      <td>12.012295</td>\n",
       "      <td>...</td>\n",
       "      <td>21.620548</td>\n",
       "      <td>21.446281</td>\n",
       "      <td>20.300824</td>\n",
       "      <td>18.640110</td>\n",
       "      <td>16.797260</td>\n",
       "      <td>14.842466</td>\n",
       "      <td>12.997260</td>\n",
       "      <td>11.407104</td>\n",
       "      <td>9.693989</td>\n",
       "      <td>7.989041</td>\n",
       "    </tr>\n",
       "    <tr>\n",
       "      <th>2</th>\n",
       "      <td>21.678962</td>\n",
       "      <td>20.209016</td>\n",
       "      <td>18.331507</td>\n",
       "      <td>16.274590</td>\n",
       "      <td>14.565574</td>\n",
       "      <td>12.948087</td>\n",
       "      <td>11.372951</td>\n",
       "      <td>10.054645</td>\n",
       "      <td>8.568306</td>\n",
       "      <td>7.090164</td>\n",
       "      <td>...</td>\n",
       "      <td>2.815574</td>\n",
       "      <td>5.136612</td>\n",
       "      <td>8.860656</td>\n",
       "      <td>12.079235</td>\n",
       "      <td>14.592896</td>\n",
       "      <td>16.721311</td>\n",
       "      <td>18.747268</td>\n",
       "      <td>20.476712</td>\n",
       "      <td>21.598361</td>\n",
       "      <td>21.982240</td>\n",
       "    </tr>\n",
       "    <tr>\n",
       "      <th>3</th>\n",
       "      <td>16.442466</td>\n",
       "      <td>14.713699</td>\n",
       "      <td>12.968579</td>\n",
       "      <td>11.761644</td>\n",
       "      <td>10.605191</td>\n",
       "      <td>9.387671</td>\n",
       "      <td>8.298630</td>\n",
       "      <td>6.942466</td>\n",
       "      <td>6.131148</td>\n",
       "      <td>5.039617</td>\n",
       "      <td>...</td>\n",
       "      <td>11.437158</td>\n",
       "      <td>13.897541</td>\n",
       "      <td>15.998634</td>\n",
       "      <td>17.997268</td>\n",
       "      <td>19.662568</td>\n",
       "      <td>20.545082</td>\n",
       "      <td>20.678082</td>\n",
       "      <td>20.015068</td>\n",
       "      <td>18.034153</td>\n",
       "      <td>15.975410</td>\n",
       "    </tr>\n",
       "    <tr>\n",
       "      <th>4</th>\n",
       "      <td>20.916438</td>\n",
       "      <td>19.107923</td>\n",
       "      <td>16.710383</td>\n",
       "      <td>14.281421</td>\n",
       "      <td>12.266393</td>\n",
       "      <td>10.857923</td>\n",
       "      <td>9.569672</td>\n",
       "      <td>8.433060</td>\n",
       "      <td>7.674863</td>\n",
       "      <td>6.842896</td>\n",
       "      <td>...</td>\n",
       "      <td>4.815574</td>\n",
       "      <td>6.509563</td>\n",
       "      <td>9.747268</td>\n",
       "      <td>13.000000</td>\n",
       "      <td>15.859290</td>\n",
       "      <td>17.969945</td>\n",
       "      <td>19.752732</td>\n",
       "      <td>21.128415</td>\n",
       "      <td>21.687158</td>\n",
       "      <td>21.489071</td>\n",
       "    </tr>\n",
       "  </tbody>\n",
       "</table>\n",
       "<p>5 rows × 24 columns</p>\n",
       "</div>\n",
       "      <button class=\"colab-df-convert\" onclick=\"convertToInteractive('df-4f8e979e-4c40-4921-a8e9-aae5695eb13f')\"\n",
       "              title=\"Convert this dataframe to an interactive table.\"\n",
       "              style=\"display:none;\">\n",
       "        \n",
       "  <svg xmlns=\"http://www.w3.org/2000/svg\" height=\"24px\"viewBox=\"0 0 24 24\"\n",
       "       width=\"24px\">\n",
       "    <path d=\"M0 0h24v24H0V0z\" fill=\"none\"/>\n",
       "    <path d=\"M18.56 5.44l.94 2.06.94-2.06 2.06-.94-2.06-.94-.94-2.06-.94 2.06-2.06.94zm-11 1L8.5 8.5l.94-2.06 2.06-.94-2.06-.94L8.5 2.5l-.94 2.06-2.06.94zm10 10l.94 2.06.94-2.06 2.06-.94-2.06-.94-.94-2.06-.94 2.06-2.06.94z\"/><path d=\"M17.41 7.96l-1.37-1.37c-.4-.4-.92-.59-1.43-.59-.52 0-1.04.2-1.43.59L10.3 9.45l-7.72 7.72c-.78.78-.78 2.05 0 2.83L4 21.41c.39.39.9.59 1.41.59.51 0 1.02-.2 1.41-.59l7.78-7.78 2.81-2.81c.8-.78.8-2.07 0-2.86zM5.41 20L4 18.59l7.72-7.72 1.47 1.35L5.41 20z\"/>\n",
       "  </svg>\n",
       "      </button>\n",
       "      \n",
       "  <style>\n",
       "    .colab-df-container {\n",
       "      display:flex;\n",
       "      flex-wrap:wrap;\n",
       "      gap: 12px;\n",
       "    }\n",
       "\n",
       "    .colab-df-convert {\n",
       "      background-color: #E8F0FE;\n",
       "      border: none;\n",
       "      border-radius: 50%;\n",
       "      cursor: pointer;\n",
       "      display: none;\n",
       "      fill: #1967D2;\n",
       "      height: 32px;\n",
       "      padding: 0 0 0 0;\n",
       "      width: 32px;\n",
       "    }\n",
       "\n",
       "    .colab-df-convert:hover {\n",
       "      background-color: #E2EBFA;\n",
       "      box-shadow: 0px 1px 2px rgba(60, 64, 67, 0.3), 0px 1px 3px 1px rgba(60, 64, 67, 0.15);\n",
       "      fill: #174EA6;\n",
       "    }\n",
       "\n",
       "    [theme=dark] .colab-df-convert {\n",
       "      background-color: #3B4455;\n",
       "      fill: #D2E3FC;\n",
       "    }\n",
       "\n",
       "    [theme=dark] .colab-df-convert:hover {\n",
       "      background-color: #434B5C;\n",
       "      box-shadow: 0px 1px 3px 1px rgba(0, 0, 0, 0.15);\n",
       "      filter: drop-shadow(0px 1px 2px rgba(0, 0, 0, 0.3));\n",
       "      fill: #FFFFFF;\n",
       "    }\n",
       "  </style>\n",
       "\n",
       "      <script>\n",
       "        const buttonEl =\n",
       "          document.querySelector('#df-4f8e979e-4c40-4921-a8e9-aae5695eb13f button.colab-df-convert');\n",
       "        buttonEl.style.display =\n",
       "          google.colab.kernel.accessAllowed ? 'block' : 'none';\n",
       "\n",
       "        async function convertToInteractive(key) {\n",
       "          const element = document.querySelector('#df-4f8e979e-4c40-4921-a8e9-aae5695eb13f');\n",
       "          const dataTable =\n",
       "            await google.colab.kernel.invokeFunction('convertToInteractive',\n",
       "                                                     [key], {});\n",
       "          if (!dataTable) return;\n",
       "\n",
       "          const docLinkHtml = 'Like what you see? Visit the ' +\n",
       "            '<a target=\"_blank\" href=https://colab.research.google.com/notebooks/data_table.ipynb>data table notebook</a>'\n",
       "            + ' to learn more about interactive tables.';\n",
       "          element.innerHTML = '';\n",
       "          dataTable['output_type'] = 'display_data';\n",
       "          await google.colab.output.renderOutput(dataTable, element);\n",
       "          const docLink = document.createElement('div');\n",
       "          docLink.innerHTML = docLinkHtml;\n",
       "          element.appendChild(docLink);\n",
       "        }\n",
       "      </script>\n",
       "    </div>\n",
       "  </div>\n",
       "  "
      ],
      "text/plain": [
       "timestamp         0          1          2          3          4          5   \\\n",
       "site_id                                                                       \n",
       "0          15.219945  13.342896  11.927596  10.618852   9.524590   8.079235   \n",
       "1           8.817308   7.635989   6.647945   5.532787   4.775956   4.650273   \n",
       "2          21.678962  20.209016  18.331507  16.274590  14.565574  12.948087   \n",
       "3          16.442466  14.713699  12.968579  11.761644  10.605191   9.387671   \n",
       "4          20.916438  19.107923  16.710383  14.281421  12.266393  10.857923   \n",
       "\n",
       "timestamp         6          7         8          9   ...         14  \\\n",
       "site_id                                               ...              \n",
       "0           6.971311   5.808743  4.898630   4.352055  ...  13.911202   \n",
       "1           5.389344   7.281421  9.328767  12.012295  ...  21.620548   \n",
       "2          11.372951  10.054645  8.568306   7.090164  ...   2.815574   \n",
       "3           8.298630   6.942466  6.131148   5.039617  ...  11.437158   \n",
       "4           9.569672   8.433060  7.674863   6.842896  ...   4.815574   \n",
       "\n",
       "timestamp         15         16         17         18         19         20  \\\n",
       "site_id                                                                       \n",
       "0          16.273224  18.124317  19.501366  20.579235  21.325137  21.110656   \n",
       "1          21.446281  20.300824  18.640110  16.797260  14.842466  12.997260   \n",
       "2           5.136612   8.860656  12.079235  14.592896  16.721311  18.747268   \n",
       "3          13.897541  15.998634  17.997268  19.662568  20.545082  20.678082   \n",
       "4           6.509563   9.747268  13.000000  15.859290  17.969945  19.752732   \n",
       "\n",
       "timestamp         21         22         23  \n",
       "site_id                                     \n",
       "0          20.045082  18.155738  15.747268  \n",
       "1          11.407104   9.693989   7.989041  \n",
       "2          20.476712  21.598361  21.982240  \n",
       "3          20.015068  18.034153  15.975410  \n",
       "4          21.128415  21.687158  21.489071  \n",
       "\n",
       "[5 rows x 24 columns]"
      ]
     },
     "execution_count": 3,
     "metadata": {},
     "output_type": "execute_result"
    }
   ],
   "source": [
    "# code copied from: https://www.kaggle.com/code/abhigyandatta/eda-ashrae-energy-consumption\n",
    "\n",
    "temp_df=weather_train[['site_id','timestamp','air_temperature']]\n",
    "\n",
    " # calculate ranks of hourly temperatures within date/site_id chunks\n",
    "temp_df['temp_rank']=temp_df.groupby(['site_id', temp_df.timestamp.dt.date])['air_temperature'].rank('average')\n",
    "\n",
    "# create 2D dataframe of site_ids (0-16) x mean hour rank of temperature within day (0-23)\n",
    "df_2d=temp_df.groupby(['site_id', temp_df.timestamp.dt.hour])['temp_rank'].mean().unstack(level=1)\n",
    "df_2d.head()"
   ]
  },
  {
   "cell_type": "code",
   "execution_count": null,
   "metadata": {
    "colab": {
     "base_uri": "https://localhost:8080/",
     "height": 513
    },
    "id": "PkTEhjKA7fxx",
    "outputId": "22cf9dd2-6706-4fa1-ed91-c6669358e520"
   },
   "outputs": [
    {
     "data": {
      "image/png": "[encoded data removed]",
      "text/plain": [
       "<Figure size 864x576 with 2 Axes>"
      ]
     },
     "metadata": {
      "needs_background": "light"
     },
     "output_type": "display_data"
    }
   ],
   "source": [
    "#plotting heatmap of mean tempearture rank by hour\n",
    "plt.figure(figsize=(12,8))\n",
    "sns.heatmap(df_2d,cmap='Reds')\n",
    "plt.xlabel('Hour')\n",
    "plt.title('Mean temperature rank by hour')\n",
    "plt.show()"
   ]
  },
  {
   "cell_type": "markdown",
   "metadata": {
    "id": "6Ipj5S4rhjfe"
   },
   "source": [
    "Temperature should be high during noon time i.e 11 hrs to 15 hrs. From above heatmap we can see that only sites 1,5 and 12 are following this. Thats means remaining sites are not aligned with the local time zone. "
   ]
  },
  {
   "cell_type": "code",
   "execution_count": null,
   "metadata": {
    "id": "yUrdspwm2B8U"
   },
   "outputs": [],
   "source": [
    "# code copied from: https://www.kaggle.com/code/abhigyandatta/eda-ashrae-energy-consumption\n",
    "def time_alignment(df):\n",
    "  ''' This function aligns the timestamp '''\n",
    "\n",
    "  temp_df=df[['site_id','timestamp','air_temperature']]\n",
    "\n",
    "  # calculate ranks of hourly temperatures within date/site_id chunks\n",
    "  temp_df['temp_rank']=temp_df.groupby(['site_id', temp_df.timestamp.dt.date],)['air_temperature'].rank('average')\n",
    "\n",
    "  # create 2D dataframe of site_ids (0-16) x mean hour rank of temperature within day (0-23)\n",
    "  df_2d=temp_df.groupby(['site_id', temp_df.timestamp.dt.hour])['temp_rank'].mean().unstack(level=1)\n",
    "\n",
    "  # align scale, so each value within row is in [0,1] range\n",
    "  df_2d = df_2d / df_2d.max(axis=1).values.reshape((-1,1))\n",
    "\n",
    "  # assuming site ids (1,5,12) has the most correct temp peaks at 14:00\n",
    "  site_ids_offsets= pd.Series(df_2d.values.argmax(axis=1) - 14)\n",
    "\n",
    "  temp_df['offset'] = temp_df.site_id.map(site_ids_offsets)\n",
    "\n",
    "  # add offset\n",
    "  temp_df['timestamp_aligned'] = (temp_df.timestamp - pd.to_timedelta(temp_df.offset, unit='H'))\n",
    "  \n",
    "  # replace the timestamp with aligned timestamps in the original dataframe\n",
    "  df['timestamp']=temp_df['timestamp_aligned']\n",
    "\n",
    "  return df \n"
   ]
  },
  {
   "cell_type": "code",
   "execution_count": null,
   "metadata": {
    "id": "OWgL9f_Kde8Z"
   },
   "outputs": [],
   "source": [
    "weather_train=time_alignment(weather_train)"
   ]
  },
  {
   "cell_type": "code",
   "execution_count": null,
   "metadata": {
    "id": "olBNCNb_OvKw"
   },
   "outputs": [],
   "source": [
    "#saving weather_train to drive\n",
    "with open(\"/content/drive/MyDrive/weather_train.pkl\",'wb') as f:\n",
    "  pickle.dump(weather_train,f)"
   ]
  },
  {
   "cell_type": "code",
   "execution_count": null,
   "metadata": {
    "id": "Ia91HKLLWkH2"
   },
   "outputs": [],
   "source": [
    "with open(\"/content/drive/MyDrive/weather_train.pkl\",'rb') as f:\n",
    "  weather_train=pickle.load(f)"
   ]
  },
  {
   "cell_type": "code",
   "execution_count": null,
   "metadata": {
    "id": "3e4CjOjEOzAt"
   },
   "outputs": [],
   "source": [
    "#Checking for timestamp descrepencies after time alignment\n",
    "temp_df=weather_train[['site_id','timestamp','air_temperature']]\n",
    "temp_df['temp_rank']=temp_df.groupby(['site_id', temp_df.timestamp.dt.date],)['air_temperature'].rank('average')\n",
    "df_2d=temp_df.groupby(['site_id', temp_df.timestamp.dt.hour])['temp_rank'].mean().unstack(level=1)"
   ]
  },
  {
   "cell_type": "code",
   "execution_count": null,
   "metadata": {
    "colab": {
     "base_uri": "https://localhost:8080/",
     "height": 513
    },
    "id": "_2EZcBSDSn6T",
    "outputId": "59a71fea-9f97-45ba-abeb-d4e1381f5ce0"
   },
   "outputs": [
    {
     "data": {
      "image/png": "[encoded data removed]",
      "text/plain": [
       "<Figure size 864x576 with 2 Axes>"
      ]
     },
     "metadata": {
      "needs_background": "light"
     },
     "output_type": "display_data"
    }
   ],
   "source": [
    "plt.figure(figsize=(12,8))\n",
    "sns.heatmap(df_2d,cmap='Reds')\n",
    "plt.xlabel('Hour')\n",
    "plt.title('Mean temperature rank by hour(after timestamp alignment)')\n",
    "plt.show()"
   ]
  },
  {
   "cell_type": "markdown",
   "metadata": {
    "id": "8WTNJzrOWy_i"
   },
   "source": [
    "In above heatmap we can see that for all site ids temperature is high during noon time. That means our timestamps have been aligned."
   ]
  },
  {
   "cell_type": "markdown",
   "metadata": {
    "id": "BRCLxal8XyyH"
   },
   "source": [
    "# **EDA**"
   ]
  },
  {
   "cell_type": "code",
   "execution_count": null,
   "metadata": {
    "colab": {
     "base_uri": "https://localhost:8080/"
    },
    "id": "7I0dxWmqIyOv",
    "outputId": "1d3da4f9-d81d-452d-9226-670c54edfa57"
   },
   "outputs": [
    {
     "name": "stdout",
     "output_type": "stream",
     "text": [
      "data set contains data of 1449 buildings: \n",
      "There are 16 types of primary_use\n",
      "The data is taken from 16 different sites around the world: \n",
      "train data of the buildings is from 2016-01-01 00:00:00 to 2016-12-31 23:00:00\n"
     ]
    }
   ],
   "source": [
    "#EDA of merge_df(buiding_metadata + train)\n",
    "x=len(merge_df['building_id'].unique())\n",
    "y=len(merge_df['primary_use'].unique())\n",
    "z=len(merge_df['site_id'].unique())\n",
    "time_min=merge_df['timestamp'].min() ; time_max=merge_df['timestamp'].max()\n",
    "print(\"data set contains data of {} buildings: \".format(x))\n",
    "print(\"There are {} types of primary_use\".format(y))\n",
    "print(\"The data is taken from {} different sites around the world: \".format(z))\n",
    "print(\"train data of the buildings is from {} to {}\".format(time_min,time_max))"
   ]
  },
  {
   "cell_type": "code",
   "execution_count": null,
   "metadata": {
    "colab": {
     "base_uri": "https://localhost:8080/"
    },
    "id": "JJowAMiyXYfv",
    "outputId": "99cbc4b1-2a4b-4a6c-e6ed-76a692ed2be5"
   },
   "outputs": [
    {
     "name": "stdout",
     "output_type": "stream",
     "text": [
      "Total number of diferent sites in weather_train is:  16\n",
      "weather_train contains data from 2015-12-31 15:00:00 to 2016-12-31 23:00:00\n"
     ]
    }
   ],
   "source": [
    "#EDA of weather_train\n",
    "x=len(weather_train.site_id.unique())\n",
    "print(\"Total number of diferent sites in weather_train is: \",x)\n",
    "time_min=weather_train['timestamp'].min() ; time_max=weather_train['timestamp'].max()\n",
    "print(\"weather_train contains data from {} to {}\".format(time_min,time_max))"
   ]
  },
  {
   "cell_type": "code",
   "execution_count": null,
   "metadata": {
    "id": "RjYAOjQbANZU"
   },
   "outputs": [],
   "source": [
    "#merging building_metadata,train and weather_train \n",
    "merge_df=merge_df.merge(weather_train,on=['site_id','timestamp'],how='left')\n"
   ]
  },
  {
   "cell_type": "code",
   "execution_count": null,
   "metadata": {
    "colab": {
     "base_uri": "https://localhost:8080/"
    },
    "id": "iY53jIMNYEA9",
    "outputId": "4ebbb07c-d738-4473-b92d-6c26565df791"
   },
   "outputs": [
    {
     "data": {
      "text/plain": [
       "0"
      ]
     },
     "execution_count": 16,
     "metadata": {},
     "output_type": "execute_result"
    }
   ],
   "source": [
    "#finding number of duplicate rows\n",
    "merge_df.duplicated().sum()"
   ]
  },
  {
   "cell_type": "markdown",
   "metadata": {
    "id": "p0H83cNxY-Zi"
   },
   "source": [
    "observation:There are no duplicates in our train data"
   ]
  },
  {
   "cell_type": "code",
   "execution_count": null,
   "metadata": {
    "colab": {
     "base_uri": "https://localhost:8080/"
    },
    "id": "GeQojCSOOOMg",
    "outputId": "c62f5abf-4fe0-42ff-c2e4-b063f33e7088"
   },
   "outputs": [
    {
     "name": "stdout",
     "output_type": "stream",
     "text": [
      "<class 'pandas.core.frame.DataFrame'>\n",
      "Int64Index: 20216100 entries, 0 to 20216099\n",
      "Data columns (total 12 columns):\n",
      " #   Column              Dtype         \n",
      "---  ------              -----         \n",
      " 0   site_id             int8          \n",
      " 1   building_id         int16         \n",
      " 2   primary_use         object        \n",
      " 3   square_feet         int32         \n",
      " 4   meter               int8          \n",
      " 5   timestamp           datetime64[ns]\n",
      " 6   meter_reading       float32       \n",
      " 7   air_temperature     float16       \n",
      " 8   dew_temperature     float16       \n",
      " 9   sea_level_pressure  float16       \n",
      " 10  wind_direction      float16       \n",
      " 11  wind_speed          float16       \n",
      "dtypes: datetime64[ns](1), float16(5), float32(1), int16(1), int32(1), int8(2), object(1)\n",
      "memory usage: 886.9+ MB\n"
     ]
    }
   ],
   "source": [
    "merge_df.info()"
   ]
  },
  {
   "cell_type": "markdown",
   "metadata": {
    "id": "JqBgE4JhWXfi"
   },
   "source": [
    "Our train data contains more than 20 million (20216100) data points"
   ]
  },
  {
   "cell_type": "code",
   "execution_count": null,
   "metadata": {
    "colab": {
     "base_uri": "https://localhost:8080/"
    },
    "id": "v3WihTrZOjiT",
    "outputId": "49dc6e2c-3ad1-4120-9639-c0adeeabff75"
   },
   "outputs": [
    {
     "name": "stdout",
     "output_type": "stream",
     "text": [
      "number of unique buildings in our train data is: 1449\n",
      "our train data (merge_df) contains data from 2016-01-01 00:00:00 to 2016-12-31 23:00:00\n"
     ]
    }
   ],
   "source": [
    "print(\"number of unique buildings in our train data is:\",merge_df.building_id.nunique())\n",
    "time_min=merge_df['timestamp'].min() ; time_max=merge_df['timestamp'].max()\n",
    "print(\"our train data (merge_df) contains data from {} to {}\".format(time_min,time_max))"
   ]
  },
  {
   "cell_type": "code",
   "execution_count": null,
   "metadata": {
    "id": "jlEAYB6uTRpe"
   },
   "outputs": [],
   "source": [
    "# Meter readings of site 0 are given in KBTU unit we will convert it to KWh\n",
    "merge_df.loc[merge_df['site_id'] == 0,['meter_reading']]*=0.2931"
   ]
  },
  {
   "cell_type": "code",
   "execution_count": null,
   "metadata": {
    "colab": {
     "base_uri": "https://localhost:8080/"
    },
    "id": "FhKgi0UAcCVI",
    "outputId": "049cc3a5-7c1c-483a-9f9c-47e688f52258"
   },
   "outputs": [
    {
     "data": {
      "text/plain": [
       "site_id               0.000000\n",
       "building_id           0.000000\n",
       "primary_use           0.000000\n",
       "square_feet           0.000000\n",
       "meter                 0.000000\n",
       "timestamp             0.000000\n",
       "meter_reading         0.000000\n",
       "air_temperature       0.542231\n",
       "dew_temperature       0.559455\n",
       "sea_level_pressure    6.146022\n",
       "wind_direction        7.229614\n",
       "wind_speed            0.774551\n",
       "dtype: float64"
      ]
     },
     "execution_count": 20,
     "metadata": {},
     "output_type": "execute_result"
    }
   ],
   "source": [
    "#checking for columns with nan values\n",
    "merge_df.isna().sum()*100/len(merge_df)"
   ]
  },
  {
   "cell_type": "markdown",
   "metadata": {
    "id": "XJI6WYqNdT5w"
   },
   "source": [
    "observation: air_temperature, dew_temperature, sea_level_pressure, wind_direction and wind_speed contains few percent of nan values we will impute them.\n"
   ]
  },
  {
   "cell_type": "code",
   "execution_count": null,
   "metadata": {
    "colab": {
     "base_uri": "https://localhost:8080/"
    },
    "id": "SFQaU0-rdzMa",
    "outputId": "7f2c8fd2-c6d5-4f65-a7ff-3b486a5e3e7a"
   },
   "outputs": [
    {
     "data": {
      "text/plain": [
       "site_id               0.0\n",
       "building_id           0.0\n",
       "primary_use           0.0\n",
       "square_feet           0.0\n",
       "meter                 0.0\n",
       "timestamp             0.0\n",
       "meter_reading         0.0\n",
       "air_temperature       0.0\n",
       "dew_temperature       0.0\n",
       "sea_level_pressure    0.0\n",
       "wind_direction        0.0\n",
       "wind_speed            0.0\n",
       "dtype: float64"
      ]
     },
     "execution_count": 21,
     "metadata": {},
     "output_type": "execute_result"
    }
   ],
   "source": [
    "# imputing nan values\n",
    "#code referred from: https://www.kaggle.com/code/abhigyandatta/eda-ashrae-energy-consumption\n",
    "imputer=SimpleImputer(strategy='median')\n",
    "merge_df[['air_temperature','dew_temperature','sea_level_pressure','wind_direction','wind_speed']]=imputer.fit_transform(merge_df[['air_temperature','dew_temperature','sea_level_pressure','wind_direction','wind_speed']])\n",
    "merge_df.isna().sum()*100/len(merge_df)"
   ]
  },
  {
   "cell_type": "code",
   "execution_count": null,
   "metadata": {
    "colab": {
     "base_uri": "https://localhost:8080/",
     "height": 291
    },
    "id": "L96nAYQdMrHt",
    "outputId": "4ab66311-54c7-4ee7-c033-88e8a1169445"
   },
   "outputs": [
    {
     "data": {
      "image/png": "[encoded data removed]",
      "text/plain": [
       "<Figure size 432x288 with 1 Axes>"
      ]
     },
     "metadata": {
      "needs_background": "light"
     },
     "output_type": "display_data"
    }
   ],
   "source": [
    "# building id vs meter reading\n",
    "sns.lineplot(x='building_id',y='meter_reading',data=merge_df)\n",
    "plt.show()"
   ]
  },
  {
   "cell_type": "code",
   "execution_count": null,
   "metadata": {
    "colab": {
     "base_uri": "https://localhost:8080/",
     "height": 179
    },
    "id": "_N290jZHOd6h",
    "outputId": "a9ab49bf-cc6d-4ac3-d30b-03060f155efd"
   },
   "outputs": [
    {
     "data": {
      "text/html": [
       "\n",
       "  <div id=\"df-4a902efc-4d06-4bf8-8d5b-3de3533ab224\">\n",
       "    <div class=\"colab-df-container\">\n",
       "      <div>\n",
       "<style scoped>\n",
       "    .dataframe tbody tr th:only-of-type {\n",
       "        vertical-align: middle;\n",
       "    }\n",
       "\n",
       "    .dataframe tbody tr th {\n",
       "        vertical-align: top;\n",
       "    }\n",
       "\n",
       "    .dataframe thead th {\n",
       "        text-align: right;\n",
       "    }\n",
       "</style>\n",
       "<table border=\"1\" class=\"dataframe\">\n",
       "  <thead>\n",
       "    <tr style=\"text-align: right;\">\n",
       "      <th></th>\n",
       "      <th>site_id</th>\n",
       "      <th>building_id</th>\n",
       "      <th>primary_use</th>\n",
       "      <th>square_feet</th>\n",
       "      <th>meter</th>\n",
       "      <th>timestamp</th>\n",
       "      <th>meter_reading</th>\n",
       "      <th>air_temperature</th>\n",
       "      <th>dew_temperature</th>\n",
       "      <th>sea_level_pressure</th>\n",
       "      <th>wind_direction</th>\n",
       "      <th>wind_speed</th>\n",
       "    </tr>\n",
       "  </thead>\n",
       "  <tbody>\n",
       "    <tr>\n",
       "      <th>8907488</th>\n",
       "      <td>13</td>\n",
       "      <td>1099</td>\n",
       "      <td>Education</td>\n",
       "      <td>332884</td>\n",
       "      <td>2</td>\n",
       "      <td>2016-06-13 09:00:00</td>\n",
       "      <td>21904700.0</td>\n",
       "      <td>24.40625</td>\n",
       "      <td>17.203125</td>\n",
       "      <td>1013.0</td>\n",
       "      <td>210.0</td>\n",
       "      <td>2.099609</td>\n",
       "    </tr>\n",
       "  </tbody>\n",
       "</table>\n",
       "</div>\n",
       "      <button class=\"colab-df-convert\" onclick=\"convertToInteractive('df-4a902efc-4d06-4bf8-8d5b-3de3533ab224')\"\n",
       "              title=\"Convert this dataframe to an interactive table.\"\n",
       "              style=\"display:none;\">\n",
       "        \n",
       "  <svg xmlns=\"http://www.w3.org/2000/svg\" height=\"24px\"viewBox=\"0 0 24 24\"\n",
       "       width=\"24px\">\n",
       "    <path d=\"M0 0h24v24H0V0z\" fill=\"none\"/>\n",
       "    <path d=\"M18.56 5.44l.94 2.06.94-2.06 2.06-.94-2.06-.94-.94-2.06-.94 2.06-2.06.94zm-11 1L8.5 8.5l.94-2.06 2.06-.94-2.06-.94L8.5 2.5l-.94 2.06-2.06.94zm10 10l.94 2.06.94-2.06 2.06-.94-2.06-.94-.94-2.06-.94 2.06-2.06.94z\"/><path d=\"M17.41 7.96l-1.37-1.37c-.4-.4-.92-.59-1.43-.59-.52 0-1.04.2-1.43.59L10.3 9.45l-7.72 7.72c-.78.78-.78 2.05 0 2.83L4 21.41c.39.39.9.59 1.41.59.51 0 1.02-.2 1.41-.59l7.78-7.78 2.81-2.81c.8-.78.8-2.07 0-2.86zM5.41 20L4 18.59l7.72-7.72 1.47 1.35L5.41 20z\"/>\n",
       "  </svg>\n",
       "      </button>\n",
       "      \n",
       "  <style>\n",
       "    .colab-df-container {\n",
       "      display:flex;\n",
       "      flex-wrap:wrap;\n",
       "      gap: 12px;\n",
       "    }\n",
       "\n",
       "    .colab-df-convert {\n",
       "      background-color: #E8F0FE;\n",
       "      border: none;\n",
       "      border-radius: 50%;\n",
       "      cursor: pointer;\n",
       "      display: none;\n",
       "      fill: #1967D2;\n",
       "      height: 32px;\n",
       "      padding: 0 0 0 0;\n",
       "      width: 32px;\n",
       "    }\n",
       "\n",
       "    .colab-df-convert:hover {\n",
       "      background-color: #E2EBFA;\n",
       "      box-shadow: 0px 1px 2px rgba(60, 64, 67, 0.3), 0px 1px 3px 1px rgba(60, 64, 67, 0.15);\n",
       "      fill: #174EA6;\n",
       "    }\n",
       "\n",
       "    [theme=dark] .colab-df-convert {\n",
       "      background-color: #3B4455;\n",
       "      fill: #D2E3FC;\n",
       "    }\n",
       "\n",
       "    [theme=dark] .colab-df-convert:hover {\n",
       "      background-color: #434B5C;\n",
       "      box-shadow: 0px 1px 3px 1px rgba(0, 0, 0, 0.15);\n",
       "      filter: drop-shadow(0px 1px 2px rgba(0, 0, 0, 0.3));\n",
       "      fill: #FFFFFF;\n",
       "    }\n",
       "  </style>\n",
       "\n",
       "      <script>\n",
       "        const buttonEl =\n",
       "          document.querySelector('#df-4a902efc-4d06-4bf8-8d5b-3de3533ab224 button.colab-df-convert');\n",
       "        buttonEl.style.display =\n",
       "          google.colab.kernel.accessAllowed ? 'block' : 'none';\n",
       "\n",
       "        async function convertToInteractive(key) {\n",
       "          const element = document.querySelector('#df-4a902efc-4d06-4bf8-8d5b-3de3533ab224');\n",
       "          const dataTable =\n",
       "            await google.colab.kernel.invokeFunction('convertToInteractive',\n",
       "                                                     [key], {});\n",
       "          if (!dataTable) return;\n",
       "\n",
       "          const docLinkHtml = 'Like what you see? Visit the ' +\n",
       "            '<a target=\"_blank\" href=https://colab.research.google.com/notebooks/data_table.ipynb>data table notebook</a>'\n",
       "            + ' to learn more about interactive tables.';\n",
       "          element.innerHTML = '';\n",
       "          dataTable['output_type'] = 'display_data';\n",
       "          await google.colab.output.renderOutput(dataTable, element);\n",
       "          const docLink = document.createElement('div');\n",
       "          docLink.innerHTML = docLinkHtml;\n",
       "          element.appendChild(docLink);\n",
       "        }\n",
       "      </script>\n",
       "    </div>\n",
       "  </div>\n",
       "  "
      ],
      "text/plain": [
       "         site_id  building_id primary_use  square_feet  meter  \\\n",
       "8907488       13         1099   Education       332884      2   \n",
       "\n",
       "                  timestamp  meter_reading  air_temperature  dew_temperature  \\\n",
       "8907488 2016-06-13 09:00:00     21904700.0         24.40625        17.203125   \n",
       "\n",
       "         sea_level_pressure  wind_direction  wind_speed  \n",
       "8907488              1013.0           210.0    2.099609  "
      ]
     },
     "execution_count": 33,
     "metadata": {},
     "output_type": "execute_result"
    }
   ],
   "source": [
    "x=merge_df['meter_reading'].max()\n",
    "merge_df[merge_df['meter_reading']==x]\n"
   ]
  },
  {
   "cell_type": "markdown",
   "metadata": {
    "id": "WlEbbrhLQX_g"
   },
   "source": [
    "We can see that meter readings of building id 1099 at site id 13 is having outliers."
   ]
  },
  {
   "cell_type": "code",
   "execution_count": null,
   "metadata": {
    "colab": {
     "base_uri": "https://localhost:8080/",
     "height": 291
    },
    "id": "R8xJS-QnWatA",
    "outputId": "82315c2a-cfb8-4587-aaf0-1c89efc6b40d"
   },
   "outputs": [
    {
     "data": {
      "image/png": "[encoded data removed]",
      "text/plain": [
       "<Figure size 432x288 with 1 Axes>"
      ]
     },
     "metadata": {
      "needs_background": "light"
     },
     "output_type": "display_data"
    }
   ],
   "source": [
    "# site id vs meter reading\n",
    "sns.scatterplot(x='site_id',y='meter_reading',data=merge_df)\n",
    "plt.show()"
   ]
  },
  {
   "cell_type": "markdown",
   "metadata": {
    "id": "qQBoa5r0YSsS"
   },
   "source": [
    "We can see that meter readings of site id 13 is having many outliers. This may be because building id 1099 is located in site id 13."
   ]
  },
  {
   "cell_type": "code",
   "execution_count": 11,
   "metadata": {
    "colab": {
     "base_uri": "https://localhost:8080/",
     "height": 405
    },
    "id": "g4YKzotJZOA-",
    "outputId": "62f5eaf3-f6cb-4b46-eb94-7d00af6933f3"
   },
   "outputs": [
    {
     "data": {
      "image/png": "[encoded data removed]",
      "text/plain": [
       "<Figure size 720x432 with 1 Axes>"
      ]
     },
     "metadata": {
      "needs_background": "light"
     },
     "output_type": "display_data"
    }
   ],
   "source": [
    "#histogram of meter readings\n",
    "plt.figure(figsize=(10,6))\n",
    "sns.histplot(merge_df['meter_reading'],bins=100)\n",
    "plt.title('Histogram of meter_reading')\n",
    "plt.show()\n"
   ]
  },
  {
   "cell_type": "markdown",
   "metadata": {
    "id": "kOn7d8YAd28I"
   },
   "source": [
    "Histogram of meter readings is higly skewed towards left. Many of meter readings are zero."
   ]
  },
  {
   "cell_type": "code",
   "execution_count": null,
   "metadata": {
    "colab": {
     "base_uri": "https://localhost:8080/"
    },
    "id": "tgX9WcMjpjrn",
    "outputId": "baa51255-53b9-4e41-e75d-6a85231707c0"
   },
   "outputs": [
    {
     "data": {
      "text/plain": [
       "4.395762840449021"
      ]
     },
     "execution_count": 12,
     "metadata": {},
     "output_type": "execute_result"
    }
   ],
   "source": [
    "# getting percentage of electricity meter readings 0 out of total electricity meters\n",
    "merge_df[(merge_df['meter_reading']==0) & (merge_df['meter']==0)]['meter_reading'].count()/merge_df[merge_df['meter']==0]['meter_reading'].count()*100"
   ]
  },
  {
   "cell_type": "markdown",
   "metadata": {
    "id": "MhLUsTOxqASI"
   },
   "source": [
    "Out of total electricity meter readings, 4.3958% meter readings are zero. In a building is very rare that the electricity consumption is zero at any moment. A building always has electricity consumption. As it has a lot of permanently connected devices. Hence electricity meters with zero reading are outliers.\n",
    "Source: https://www.kaggle.com/code/juanmah/ashrae-zeros/notebook"
   ]
  },
  {
   "cell_type": "code",
   "execution_count": null,
   "metadata": {
    "colab": {
     "base_uri": "https://localhost:8080/",
     "height": 377
    },
    "id": "-nxZrm8v22en",
    "outputId": "88024ea1-8ac6-423a-e94e-7abd0dfebd30"
   },
   "outputs": [
    {
     "data": {
      "image/png": "[encoded data removed]",
      "text/plain": [
       "<Figure size 576x432 with 1 Axes>"
      ]
     },
     "metadata": {
      "needs_background": "light"
     },
     "output_type": "display_data"
    }
   ],
   "source": [
    "# boxplot of meter reading\n",
    "plt.figure(figsize=(8,6))\n",
    "sns.boxplot(y=merge_df['meter_reading'])\n",
    "plt.title(\"boxplot of meter reading\")\n",
    "plt.show()"
   ]
  },
  {
   "cell_type": "markdown",
   "metadata": {
    "id": "sRz6TJtM3qmk"
   },
   "source": [
    "From above boxplot we can see that meter readings contain large outliers."
   ]
  },
  {
   "cell_type": "code",
   "execution_count": null,
   "metadata": {
    "colab": {
     "base_uri": "https://localhost:8080/"
    },
    "id": "nUgm7yBw4d3K",
    "outputId": "ab36688e-5b05-4323-f017-e408eae75507"
   },
   "outputs": [
    {
     "name": "stdout",
     "output_type": "stream",
     "text": [
      "75 percentage of meter readings in our tarin data are below 250.3000030517578 kWh\n",
      "99 percentage of meter readings in our tarin data are below 5178.240234375 kWh\n"
     ]
    }
   ],
   "source": [
    "per_75=merge_df.meter_reading.quantile(q=0.75)\n",
    "per_99=merge_df.meter_reading.quantile(q=0.99)\n",
    "print(\"75 percentage of meter readings in our tarin data are below \"+str(per_75) + \" kWh\")\n",
    "print(\"99 percentage of meter readings in our tarin data are below \"+str(per_99) + \" kWh\")"
   ]
  },
  {
   "cell_type": "code",
   "execution_count": null,
   "metadata": {
    "colab": {
     "base_uri": "https://localhost:8080/",
     "height": 660
    },
    "id": "uclxnMbvqyWe",
    "outputId": "b2228a25-ca2a-4fe4-9e06-30b54ca22289"
   },
   "outputs": [
    {
     "data": {
      "image/png": "[encoded data removed]",
      "text/plain": [
       "<Figure size 720x576 with 1 Axes>"
      ]
     },
     "metadata": {
      "needs_background": "light"
     },
     "output_type": "display_data"
    }
   ],
   "source": [
    "plt.figure(figsize=(10,8))\n",
    "sns.countplot(x='primary_use',data=merge_df)\n",
    "plt.title('Counts of different primary_use')\n",
    "plt.xticks(rotation=90)\n",
    "plt.show()"
   ]
  },
  {
   "cell_type": "markdown",
   "metadata": {
    "id": "amxHelXZ_AS0"
   },
   "source": [
    "Educational buildings have largest frequency and Religious worship has least count in our data."
   ]
  },
  {
   "cell_type": "code",
   "execution_count": null,
   "metadata": {
    "colab": {
     "base_uri": "https://localhost:8080/",
     "height": 514
    },
    "id": "025W56KqAVTH",
    "outputId": "e51c2236-3a9b-48c8-9a5f-d1ecd2784ff1"
   },
   "outputs": [
    {
     "data": {
      "image/png": "[encoded data removed]",
      "text/plain": [
       "<Figure size 1080x576 with 1 Axes>"
      ]
     },
     "metadata": {
      "needs_background": "light"
     },
     "output_type": "display_data"
    }
   ],
   "source": [
    "# Histogram of square_feet\n",
    "plt.figure(figsize=(15,8))\n",
    "sns.histplot(merge_df['square_feet'],bins=150)\n",
    "plt.title('Histogram of square_feet')\n",
    "plt.show()"
   ]
  },
  {
   "cell_type": "markdown",
   "metadata": {
    "id": "MIgFqMcytX7o"
   },
   "source": [
    "Histogram of area of buildings is highly skewed towards left. Also there are some buildings with unusual large area."
   ]
  },
  {
   "cell_type": "code",
   "execution_count": null,
   "metadata": {
    "colab": {
     "base_uri": "https://localhost:8080/",
     "height": 286
    },
    "id": "x9roQz7q2GVh",
    "outputId": "629e0900-0f17-4eb9-cced-0c4ae0abc48e"
   },
   "outputs": [
    {
     "data": {
      "text/plain": [
       "Text(0.5, 1.0, 'boxplot of area of buildings in square feet')"
      ]
     },
     "execution_count": 2,
     "metadata": {},
     "output_type": "execute_result"
    },
    {
     "data": {
      "image/png": "[encoded data removed]",
      "text/plain": [
       "<Figure size 432x288 with 1 Axes>"
      ]
     },
     "metadata": {
      "needs_background": "light"
     },
     "output_type": "display_data"
    }
   ],
   "source": [
    "sns.boxplot(y=merge_df['square_feet'])\n",
    "plt.title(\"boxplot of area of buildings in square feet\")"
   ]
  },
  {
   "cell_type": "markdown",
   "metadata": {
    "id": "idcbaOOa3g2m"
   },
   "source": [
    "From above box plot it seems that there are some outliers in the area of buildings but not sure about it. Approximately 75% of buildings have area less than 1.5 lakh square feet."
   ]
  },
  {
   "cell_type": "code",
   "execution_count": null,
   "metadata": {
    "colab": {
     "base_uri": "https://localhost:8080/",
     "height": 281
    },
    "id": "Ou4-arDyvgBv",
    "outputId": "ceb29041-51cb-4080-ad7d-993b3151befe"
   },
   "outputs": [
    {
     "data": {
      "image/png": "[encoded data removed]",
      "text/plain": [
       "<Figure size 432x288 with 1 Axes>"
      ]
     },
     "metadata": {
      "needs_background": "light"
     },
     "output_type": "display_data"
    }
   ],
   "source": [
    "# avareagre meter readings by hour\n",
    "hour_mean=merge_df.groupby([merge_df.timestamp.dt.hour]).meter_reading.mean().reset_index()\n",
    "sns.lineplot(x=list(hour_mean.timestamp),y=list(hour_mean.meter_reading))\n",
    "plt.title(\"Mean/avareagre meter readings by hour\")\n",
    "plt.show()"
   ]
  },
  {
   "cell_type": "markdown",
   "metadata": {
    "id": "hBmR7EeVFsgO"
   },
   "source": [
    "Meter readings drop from midnight upto 6 am. That means meter readings are low from midnight upto 6 am. After 6 am again start increasing and at 3 pm meter readings are maximum. \n",
    "Energy is consumed more during  2 pm to 8 pm.\n",
    "\n"
   ]
  },
  {
   "cell_type": "code",
   "execution_count": null,
   "metadata": {
    "colab": {
     "base_uri": "https://localhost:8080/",
     "height": 281
    },
    "id": "b3hK8pCH_gWP",
    "outputId": "a839de7c-aa66-4538-fb2c-79d2f0906134"
   },
   "outputs": [
    {
     "data": {
      "image/png": "[encoded data removed]",
      "text/plain": [
       "<Figure size 432x288 with 1 Axes>"
      ]
     },
     "metadata": {
      "needs_background": "light"
     },
     "output_type": "display_data"
    }
   ],
   "source": [
    "# Mean/average meter readings by month\n",
    "month_mean=merge_df.groupby([merge_df.timestamp.dt.month]).meter_reading.mean().reset_index()\n",
    "sns.lineplot(x=list(month_mean.timestamp),y=list(month_mean.meter_reading))\n",
    "plt.title(\"Mean/avareagre meter readings by month\")\n",
    "plt.show()"
   ]
  },
  {
   "cell_type": "markdown",
   "metadata": {
    "id": "iNgjb3quHNJ0"
   },
   "source": [
    "Less energy is consumed in january and february and from july to december. Most of the energy is consumed from march to june. The meter reading is at its peak in april. "
   ]
  },
  {
   "cell_type": "code",
   "execution_count": null,
   "metadata": {
    "colab": {
     "base_uri": "https://localhost:8080/",
     "height": 583
    },
    "id": "6c0H-r32OjpE",
    "outputId": "451e3965-1c83-4a1a-cfe7-ac1b21209497"
   },
   "outputs": [
    {
     "data": {
      "image/png": "[encoded data removed]",
      "text/plain": [
       "<Figure size 576x576 with 2 Axes>"
      ]
     },
     "metadata": {
      "needs_background": "light"
     },
     "output_type": "display_data"
    }
   ],
   "source": [
    "# correlation between features\n",
    "corr_matrix=merge_df.corr()\n",
    "plt.figure(figsize=(8,8))\n",
    "sns.heatmap(corr_matrix,annot = True)\n",
    "plt.title(\"correlation matrix\")\n",
    "plt.show()"
   ]
  },
  {
   "cell_type": "markdown",
   "metadata": {
    "id": "ZjveNNAafJ76"
   },
   "source": [
    "site_id and building_id have strong correlation between them. Air_temperature and dew_temperature also have good correlation between them. "
   ]
  },
  {
   "cell_type": "code",
   "execution_count": null,
   "metadata": {
    "colab": {
     "base_uri": "https://localhost:8080/",
     "height": 363
    },
    "id": "KTEQK2mFfXNM",
    "outputId": "c2c32ff5-32d2-49e4-97e2-f2ddcb170079"
   },
   "outputs": [
    {
     "data": {
      "text/html": [
       "\n",
       "  <div id=\"df-3996f5c4-2c7c-459c-aa30-ea3320fbd580\">\n",
       "    <div class=\"colab-df-container\">\n",
       "      <div>\n",
       "<style scoped>\n",
       "    .dataframe tbody tr th:only-of-type {\n",
       "        vertical-align: middle;\n",
       "    }\n",
       "\n",
       "    .dataframe tbody tr th {\n",
       "        vertical-align: top;\n",
       "    }\n",
       "\n",
       "    .dataframe thead th {\n",
       "        text-align: right;\n",
       "    }\n",
       "</style>\n",
       "<table border=\"1\" class=\"dataframe\">\n",
       "  <thead>\n",
       "    <tr style=\"text-align: right;\">\n",
       "      <th></th>\n",
       "      <th>meter_reading</th>\n",
       "    </tr>\n",
       "  </thead>\n",
       "  <tbody>\n",
       "    <tr>\n",
       "      <th>meter_reading</th>\n",
       "      <td>1.000000</td>\n",
       "    </tr>\n",
       "    <tr>\n",
       "      <th>square_feet</th>\n",
       "      <td>0.024303</td>\n",
       "    </tr>\n",
       "    <tr>\n",
       "      <th>meter</th>\n",
       "      <td>0.017673</td>\n",
       "    </tr>\n",
       "    <tr>\n",
       "      <th>site_id</th>\n",
       "      <td>0.012108</td>\n",
       "    </tr>\n",
       "    <tr>\n",
       "      <th>building_id</th>\n",
       "      <td>0.008997</td>\n",
       "    </tr>\n",
       "    <tr>\n",
       "      <th>wind_speed</th>\n",
       "      <td>0.005986</td>\n",
       "    </tr>\n",
       "    <tr>\n",
       "      <th>wind_direction</th>\n",
       "      <td>0.000030</td>\n",
       "    </tr>\n",
       "    <tr>\n",
       "      <th>dew_temperature</th>\n",
       "      <td>-0.003626</td>\n",
       "    </tr>\n",
       "    <tr>\n",
       "      <th>sea_level_pressure</th>\n",
       "      <td>-0.004282</td>\n",
       "    </tr>\n",
       "    <tr>\n",
       "      <th>air_temperature</th>\n",
       "      <td>-0.004293</td>\n",
       "    </tr>\n",
       "  </tbody>\n",
       "</table>\n",
       "</div>\n",
       "      <button class=\"colab-df-convert\" onclick=\"convertToInteractive('df-3996f5c4-2c7c-459c-aa30-ea3320fbd580')\"\n",
       "              title=\"Convert this dataframe to an interactive table.\"\n",
       "              style=\"display:none;\">\n",
       "        \n",
       "  <svg xmlns=\"http://www.w3.org/2000/svg\" height=\"24px\"viewBox=\"0 0 24 24\"\n",
       "       width=\"24px\">\n",
       "    <path d=\"M0 0h24v24H0V0z\" fill=\"none\"/>\n",
       "    <path d=\"M18.56 5.44l.94 2.06.94-2.06 2.06-.94-2.06-.94-.94-2.06-.94 2.06-2.06.94zm-11 1L8.5 8.5l.94-2.06 2.06-.94-2.06-.94L8.5 2.5l-.94 2.06-2.06.94zm10 10l.94 2.06.94-2.06 2.06-.94-2.06-.94-.94-2.06-.94 2.06-2.06.94z\"/><path d=\"M17.41 7.96l-1.37-1.37c-.4-.4-.92-.59-1.43-.59-.52 0-1.04.2-1.43.59L10.3 9.45l-7.72 7.72c-.78.78-.78 2.05 0 2.83L4 21.41c.39.39.9.59 1.41.59.51 0 1.02-.2 1.41-.59l7.78-7.78 2.81-2.81c.8-.78.8-2.07 0-2.86zM5.41 20L4 18.59l7.72-7.72 1.47 1.35L5.41 20z\"/>\n",
       "  </svg>\n",
       "      </button>\n",
       "      \n",
       "  <style>\n",
       "    .colab-df-container {\n",
       "      display:flex;\n",
       "      flex-wrap:wrap;\n",
       "      gap: 12px;\n",
       "    }\n",
       "\n",
       "    .colab-df-convert {\n",
       "      background-color: #E8F0FE;\n",
       "      border: none;\n",
       "      border-radius: 50%;\n",
       "      cursor: pointer;\n",
       "      display: none;\n",
       "      fill: #1967D2;\n",
       "      height: 32px;\n",
       "      padding: 0 0 0 0;\n",
       "      width: 32px;\n",
       "    }\n",
       "\n",
       "    .colab-df-convert:hover {\n",
       "      background-color: #E2EBFA;\n",
       "      box-shadow: 0px 1px 2px rgba(60, 64, 67, 0.3), 0px 1px 3px 1px rgba(60, 64, 67, 0.15);\n",
       "      fill: #174EA6;\n",
       "    }\n",
       "\n",
       "    [theme=dark] .colab-df-convert {\n",
       "      background-color: #3B4455;\n",
       "      fill: #D2E3FC;\n",
       "    }\n",
       "\n",
       "    [theme=dark] .colab-df-convert:hover {\n",
       "      background-color: #434B5C;\n",
       "      box-shadow: 0px 1px 3px 1px rgba(0, 0, 0, 0.15);\n",
       "      filter: drop-shadow(0px 1px 2px rgba(0, 0, 0, 0.3));\n",
       "      fill: #FFFFFF;\n",
       "    }\n",
       "  </style>\n",
       "\n",
       "      <script>\n",
       "        const buttonEl =\n",
       "          document.querySelector('#df-3996f5c4-2c7c-459c-aa30-ea3320fbd580 button.colab-df-convert');\n",
       "        buttonEl.style.display =\n",
       "          google.colab.kernel.accessAllowed ? 'block' : 'none';\n",
       "\n",
       "        async function convertToInteractive(key) {\n",
       "          const element = document.querySelector('#df-3996f5c4-2c7c-459c-aa30-ea3320fbd580');\n",
       "          const dataTable =\n",
       "            await google.colab.kernel.invokeFunction('convertToInteractive',\n",
       "                                                     [key], {});\n",
       "          if (!dataTable) return;\n",
       "\n",
       "          const docLinkHtml = 'Like what you see? Visit the ' +\n",
       "            '<a target=\"_blank\" href=https://colab.research.google.com/notebooks/data_table.ipynb>data table notebook</a>'\n",
       "            + ' to learn more about interactive tables.';\n",
       "          element.innerHTML = '';\n",
       "          dataTable['output_type'] = 'display_data';\n",
       "          await google.colab.output.renderOutput(dataTable, element);\n",
       "          const docLink = document.createElement('div');\n",
       "          docLink.innerHTML = docLinkHtml;\n",
       "          element.appendChild(docLink);\n",
       "        }\n",
       "      </script>\n",
       "    </div>\n",
       "  </div>\n",
       "  "
      ],
      "text/plain": [
       "                    meter_reading\n",
       "meter_reading            1.000000\n",
       "square_feet              0.024303\n",
       "meter                    0.017673\n",
       "site_id                  0.012108\n",
       "building_id              0.008997\n",
       "wind_speed               0.005986\n",
       "wind_direction           0.000030\n",
       "dew_temperature         -0.003626\n",
       "sea_level_pressure      -0.004282\n",
       "air_temperature         -0.004293"
      ]
     },
     "execution_count": 46,
     "metadata": {},
     "output_type": "execute_result"
    }
   ],
   "source": [
    "# correlation of features with target value(meter_reading)\n",
    "x=merge_df.corr()['meter_reading'].sort_values(ascending=False)\n",
    "pd.DataFrame(x)"
   ]
  },
  {
   "cell_type": "markdown",
   "metadata": {
    "id": "vnFyHgxDhQEC"
   },
   "source": [
    "None of the features have a good correlation with the target value- meter_reading. As compared to other features square_feet is most correlatedwith traget values."
   ]
  },
  {
   "cell_type": "code",
   "execution_count": null,
   "metadata": {
    "colab": {
     "base_uri": "https://localhost:8080/",
     "height": 281
    },
    "id": "62KbhfroiHu_",
    "outputId": "06e0a8ef-da82-4eb3-8b7e-f7bc091b54dc"
   },
   "outputs": [
    {
     "data": {
      "image/png": "[encoded data removed]",
      "text/plain": [
       "<Figure size 432x288 with 1 Axes>"
      ]
     },
     "metadata": {
      "needs_background": "light"
     },
     "output_type": "display_data"
    }
   ],
   "source": [
    "# Average meter reading by meter type\n",
    "meter_groups=merge_df.groupby(['meter']).meter_reading.mean().reset_index()\n",
    "sns.barplot(x=list(meter_groups.meter),y=list(meter_groups.meter_reading))\n",
    "plt.title(\"Average meter reading by meter type\")\n",
    "plt.show()"
   ]
  },
  {
   "cell_type": "markdown",
   "metadata": {
    "id": "uD9TPF9gkGm7"
   },
   "source": [
    "Energy consumption of steam is more than other meters. Electricity consumes least energy."
   ]
  },
  {
   "cell_type": "code",
   "execution_count": null,
   "metadata": {
    "colab": {
     "base_uri": "https://localhost:8080/",
     "height": 281
    },
    "id": "QaDFy5npjtMl",
    "outputId": "defe589d-e5a7-4fdd-aa55-cd5fde9278ea"
   },
   "outputs": [
    {
     "data": {
      "image/png": "[encoded data removed]",
      "text/plain": [
       "<Figure size 432x288 with 1 Axes>"
      ]
     },
     "metadata": {
      "needs_background": "light"
     },
     "output_type": "display_data"
    }
   ],
   "source": [
    "# percentage of data points by each meter type\n",
    "x=(merge_df.groupby(['meter'])['meter_reading'].count()/len(merge_df)*100).reset_index()\n",
    "sns.barplot(x=list(x.meter),y=list(x.meter_reading))\n",
    "plt.title(\"percentage of data points by each meter type\")\n",
    "plt.ylabel(\"percentage\")\n",
    "plt.show()"
   ]
  },
  {
   "cell_type": "markdown",
   "metadata": {
    "id": "d1CBYIw3moyX"
   },
   "source": [
    "Meter 0 i.e Electricity meter has most of the data points in our data. 60% of our data contains meter type 0. \n",
    "Meter type 3 i.e hot water is the least equiped meter in our data.\n"
   ]
  },
  {
   "cell_type": "code",
   "execution_count": null,
   "metadata": {
    "colab": {
     "base_uri": "https://localhost:8080/",
     "height": 405
    },
    "id": "Y_N8lD3CmbtT",
    "outputId": "ea19e3b8-120b-40cf-b874-bc1f3c4a4a6a"
   },
   "outputs": [
    {
     "data": {
      "image/png": "[encoded data removed]",
      "text/plain": [
       "<Figure size 864x432 with 1 Axes>"
      ]
     },
     "metadata": {
      "needs_background": "light"
     },
     "output_type": "display_data"
    }
   ],
   "source": [
    "# histogram of Electricity meter (meter 0)\n",
    "plt.figure(figsize=(12,6))\n",
    "sns.histplot(merge_df[merge_df['meter']==0]['meter_reading'],bins=150)\n",
    "plt.title(\"histogram of Electricity meter (meter 0)\")\n",
    "plt.show()"
   ]
  },
  {
   "cell_type": "markdown",
   "metadata": {
    "id": "oGklusLco1mY"
   },
   "source": [
    "we can see that histogram is higly skewed towards left. Also there are few electricity meters with unusual large readings."
   ]
  },
  {
   "cell_type": "code",
   "execution_count": null,
   "metadata": {
    "colab": {
     "base_uri": "https://localhost:8080/",
     "height": 286
    },
    "id": "9SEvjgtO4vOP",
    "outputId": "6ca43b2d-f301-4c6a-e061-273427323171"
   },
   "outputs": [
    {
     "data": {
      "text/plain": [
       "Text(0.5, 1.0, 'boxplot of meter readings for electricity(meter 0)')"
      ]
     },
     "execution_count": 6,
     "metadata": {},
     "output_type": "execute_result"
    },
    {
     "data": {
      "image/png": "[encoded data removed]",
      "text/plain": [
       "<Figure size 432x288 with 1 Axes>"
      ]
     },
     "metadata": {
      "needs_background": "light"
     },
     "output_type": "display_data"
    }
   ],
   "source": [
    "# boxplot of meter readings for electricity(meter 0)\n",
    "sns.boxplot(y=merge_df[merge_df['meter']==0]['meter_reading'])\n",
    "plt.title(\"boxplot of meter readings for electricity(meter 0)\")"
   ]
  },
  {
   "cell_type": "code",
   "execution_count": null,
   "metadata": {
    "colab": {
     "base_uri": "https://localhost:8080/",
     "height": 179
    },
    "id": "-IMfZsDisist",
    "outputId": "7fefcd33-fa41-4e83-fbc2-7462bb10769c"
   },
   "outputs": [
    {
     "data": {
      "text/html": [
       "\n",
       "  <div id=\"df-95c276ca-230a-4530-840a-c7c0c0b1c20e\">\n",
       "    <div class=\"colab-df-container\">\n",
       "      <div>\n",
       "<style scoped>\n",
       "    .dataframe tbody tr th:only-of-type {\n",
       "        vertical-align: middle;\n",
       "    }\n",
       "\n",
       "    .dataframe tbody tr th {\n",
       "        vertical-align: top;\n",
       "    }\n",
       "\n",
       "    .dataframe thead th {\n",
       "        text-align: right;\n",
       "    }\n",
       "</style>\n",
       "<table border=\"1\" class=\"dataframe\">\n",
       "  <thead>\n",
       "    <tr style=\"text-align: right;\">\n",
       "      <th></th>\n",
       "      <th>site_id</th>\n",
       "      <th>building_id</th>\n",
       "      <th>primary_use</th>\n",
       "      <th>square_feet</th>\n",
       "      <th>meter</th>\n",
       "      <th>timestamp</th>\n",
       "      <th>meter_reading</th>\n",
       "      <th>air_temperature</th>\n",
       "      <th>dew_temperature</th>\n",
       "      <th>sea_level_pressure</th>\n",
       "      <th>wind_direction</th>\n",
       "      <th>wind_speed</th>\n",
       "    </tr>\n",
       "  </thead>\n",
       "  <tbody>\n",
       "    <tr>\n",
       "      <th>15975226</th>\n",
       "      <td>9</td>\n",
       "      <td>993</td>\n",
       "      <td>Education</td>\n",
       "      <td>428647</td>\n",
       "      <td>0</td>\n",
       "      <td>2016-10-17 07:00:00</td>\n",
       "      <td>79769.0</td>\n",
       "      <td>25.0</td>\n",
       "      <td>22.203125</td>\n",
       "      <td>1012.0</td>\n",
       "      <td>180.0</td>\n",
       "      <td>2.599609</td>\n",
       "    </tr>\n",
       "  </tbody>\n",
       "</table>\n",
       "</div>\n",
       "      <button class=\"colab-df-convert\" onclick=\"convertToInteractive('df-95c276ca-230a-4530-840a-c7c0c0b1c20e')\"\n",
       "              title=\"Convert this dataframe to an interactive table.\"\n",
       "              style=\"display:none;\">\n",
       "        \n",
       "  <svg xmlns=\"http://www.w3.org/2000/svg\" height=\"24px\"viewBox=\"0 0 24 24\"\n",
       "       width=\"24px\">\n",
       "    <path d=\"M0 0h24v24H0V0z\" fill=\"none\"/>\n",
       "    <path d=\"M18.56 5.44l.94 2.06.94-2.06 2.06-.94-2.06-.94-.94-2.06-.94 2.06-2.06.94zm-11 1L8.5 8.5l.94-2.06 2.06-.94-2.06-.94L8.5 2.5l-.94 2.06-2.06.94zm10 10l.94 2.06.94-2.06 2.06-.94-2.06-.94-.94-2.06-.94 2.06-2.06.94z\"/><path d=\"M17.41 7.96l-1.37-1.37c-.4-.4-.92-.59-1.43-.59-.52 0-1.04.2-1.43.59L10.3 9.45l-7.72 7.72c-.78.78-.78 2.05 0 2.83L4 21.41c.39.39.9.59 1.41.59.51 0 1.02-.2 1.41-.59l7.78-7.78 2.81-2.81c.8-.78.8-2.07 0-2.86zM5.41 20L4 18.59l7.72-7.72 1.47 1.35L5.41 20z\"/>\n",
       "  </svg>\n",
       "      </button>\n",
       "      \n",
       "  <style>\n",
       "    .colab-df-container {\n",
       "      display:flex;\n",
       "      flex-wrap:wrap;\n",
       "      gap: 12px;\n",
       "    }\n",
       "\n",
       "    .colab-df-convert {\n",
       "      background-color: #E8F0FE;\n",
       "      border: none;\n",
       "      border-radius: 50%;\n",
       "      cursor: pointer;\n",
       "      display: none;\n",
       "      fill: #1967D2;\n",
       "      height: 32px;\n",
       "      padding: 0 0 0 0;\n",
       "      width: 32px;\n",
       "    }\n",
       "\n",
       "    .colab-df-convert:hover {\n",
       "      background-color: #E2EBFA;\n",
       "      box-shadow: 0px 1px 2px rgba(60, 64, 67, 0.3), 0px 1px 3px 1px rgba(60, 64, 67, 0.15);\n",
       "      fill: #174EA6;\n",
       "    }\n",
       "\n",
       "    [theme=dark] .colab-df-convert {\n",
       "      background-color: #3B4455;\n",
       "      fill: #D2E3FC;\n",
       "    }\n",
       "\n",
       "    [theme=dark] .colab-df-convert:hover {\n",
       "      background-color: #434B5C;\n",
       "      box-shadow: 0px 1px 3px 1px rgba(0, 0, 0, 0.15);\n",
       "      filter: drop-shadow(0px 1px 2px rgba(0, 0, 0, 0.3));\n",
       "      fill: #FFFFFF;\n",
       "    }\n",
       "  </style>\n",
       "\n",
       "      <script>\n",
       "        const buttonEl =\n",
       "          document.querySelector('#df-95c276ca-230a-4530-840a-c7c0c0b1c20e button.colab-df-convert');\n",
       "        buttonEl.style.display =\n",
       "          google.colab.kernel.accessAllowed ? 'block' : 'none';\n",
       "\n",
       "        async function convertToInteractive(key) {\n",
       "          const element = document.querySelector('#df-95c276ca-230a-4530-840a-c7c0c0b1c20e');\n",
       "          const dataTable =\n",
       "            await google.colab.kernel.invokeFunction('convertToInteractive',\n",
       "                                                     [key], {});\n",
       "          if (!dataTable) return;\n",
       "\n",
       "          const docLinkHtml = 'Like what you see? Visit the ' +\n",
       "            '<a target=\"_blank\" href=https://colab.research.google.com/notebooks/data_table.ipynb>data table notebook</a>'\n",
       "            + ' to learn more about interactive tables.';\n",
       "          element.innerHTML = '';\n",
       "          dataTable['output_type'] = 'display_data';\n",
       "          await google.colab.output.renderOutput(dataTable, element);\n",
       "          const docLink = document.createElement('div');\n",
       "          docLink.innerHTML = docLinkHtml;\n",
       "          element.appendChild(docLink);\n",
       "        }\n",
       "      </script>\n",
       "    </div>\n",
       "  </div>\n",
       "  "
      ],
      "text/plain": [
       "          site_id  building_id primary_use  square_feet  meter  \\\n",
       "15975226        9          993   Education       428647      0   \n",
       "\n",
       "                   timestamp  meter_reading  air_temperature  dew_temperature  \\\n",
       "15975226 2016-10-17 07:00:00        79769.0             25.0        22.203125   \n",
       "\n",
       "          sea_level_pressure  wind_direction  wind_speed  \n",
       "15975226              1012.0           180.0    2.599609  "
      ]
     },
     "execution_count": 30,
     "metadata": {},
     "output_type": "execute_result"
    }
   ],
   "source": [
    "x=merge_df[merge_df['meter']==0]['meter_reading'].max()\n",
    "merge_df[merge_df['meter_reading']==x]\n"
   ]
  },
  {
   "cell_type": "markdown",
   "metadata": {
    "id": "CVk0TQ9L5aXa"
   },
   "source": [
    "We can see that meter 0 reading of building 993 is unusually high (79769). It is an outlier."
   ]
  },
  {
   "cell_type": "code",
   "execution_count": null,
   "metadata": {
    "colab": {
     "base_uri": "https://localhost:8080/",
     "height": 296
    },
    "id": "4Dr0xP9Tv9z2",
    "outputId": "db43c18c-1ec3-48d4-ac7b-588369964815"
   },
   "outputs": [
    {
     "data": {
      "image/png": "[encoded data removed]",
      "text/plain": [
       "<Figure size 432x288 with 1 Axes>"
      ]
     },
     "metadata": {
      "needs_background": "light"
     },
     "output_type": "display_data"
    }
   ],
   "source": [
    "# histogram of chilled water meter (meter 1)\n",
    "sns.histplot(merge_df[merge_df['meter']==1]['meter_reading'],bins=100)\n",
    "plt.title(\"histogram of chilled water meter (meter 1)\")\n",
    "plt.show()"
   ]
  },
  {
   "cell_type": "markdown",
   "metadata": {
    "id": "IwvRxFKx7xPH"
   },
   "source": [
    "The histogram of meter 1 readings is highly skewed towards left."
   ]
  },
  {
   "cell_type": "code",
   "execution_count": null,
   "metadata": {
    "colab": {
     "base_uri": "https://localhost:8080/",
     "height": 286
    },
    "id": "KpidXzSp6ymL",
    "outputId": "a0160a45-c8cd-44cf-ebd3-852bbf3106c3"
   },
   "outputs": [
    {
     "data": {
      "text/plain": [
       "Text(0.5, 1.0, 'boxplot of meter readings for chilled water(meter 1)')"
      ]
     },
     "execution_count": 9,
     "metadata": {},
     "output_type": "execute_result"
    },
    {
     "data": {
      "image/png": "[encoded data removed]",
      "text/plain": [
       "<Figure size 432x288 with 1 Axes>"
      ]
     },
     "metadata": {
      "needs_background": "light"
     },
     "output_type": "display_data"
    }
   ],
   "source": [
    "# boxplot of meter readings for chilled water(meter 1)\n",
    "sns.boxplot(y=merge_df[merge_df['meter']==1]['meter_reading'])\n",
    "plt.title(\"boxplot of meter readings for chilled water(meter 1)\")"
   ]
  },
  {
   "cell_type": "code",
   "execution_count": null,
   "metadata": {
    "colab": {
     "base_uri": "https://localhost:8080/",
     "height": 179
    },
    "id": "zPMwhDtIwxO3",
    "outputId": "8b57f597-bbdb-4e11-b4a4-2b73b9954141"
   },
   "outputs": [
    {
     "data": {
      "text/html": [
       "\n",
       "  <div id=\"df-177f1014-fd47-4502-8cd1-eabed293ffc9\">\n",
       "    <div class=\"colab-df-container\">\n",
       "      <div>\n",
       "<style scoped>\n",
       "    .dataframe tbody tr th:only-of-type {\n",
       "        vertical-align: middle;\n",
       "    }\n",
       "\n",
       "    .dataframe tbody tr th {\n",
       "        vertical-align: top;\n",
       "    }\n",
       "\n",
       "    .dataframe thead th {\n",
       "        text-align: right;\n",
       "    }\n",
       "</style>\n",
       "<table border=\"1\" class=\"dataframe\">\n",
       "  <thead>\n",
       "    <tr style=\"text-align: right;\">\n",
       "      <th></th>\n",
       "      <th>site_id</th>\n",
       "      <th>building_id</th>\n",
       "      <th>primary_use</th>\n",
       "      <th>square_feet</th>\n",
       "      <th>meter</th>\n",
       "      <th>timestamp</th>\n",
       "      <th>meter_reading</th>\n",
       "      <th>air_temperature</th>\n",
       "      <th>dew_temperature</th>\n",
       "      <th>sea_level_pressure</th>\n",
       "      <th>wind_direction</th>\n",
       "      <th>wind_speed</th>\n",
       "    </tr>\n",
       "  </thead>\n",
       "  <tbody>\n",
       "    <tr>\n",
       "      <th>13851463</th>\n",
       "      <td>6</td>\n",
       "      <td>778</td>\n",
       "      <td>Entertainment/public assembly</td>\n",
       "      <td>108339</td>\n",
       "      <td>1</td>\n",
       "      <td>2016-09-09 17:00:00</td>\n",
       "      <td>880374.0</td>\n",
       "      <td>32.1875</td>\n",
       "      <td>18.90625</td>\n",
       "      <td>1013.0</td>\n",
       "      <td>200.0</td>\n",
       "      <td>2.599609</td>\n",
       "    </tr>\n",
       "  </tbody>\n",
       "</table>\n",
       "</div>\n",
       "      <button class=\"colab-df-convert\" onclick=\"convertToInteractive('df-177f1014-fd47-4502-8cd1-eabed293ffc9')\"\n",
       "              title=\"Convert this dataframe to an interactive table.\"\n",
       "              style=\"display:none;\">\n",
       "        \n",
       "  <svg xmlns=\"http://www.w3.org/2000/svg\" height=\"24px\"viewBox=\"0 0 24 24\"\n",
       "       width=\"24px\">\n",
       "    <path d=\"M0 0h24v24H0V0z\" fill=\"none\"/>\n",
       "    <path d=\"M18.56 5.44l.94 2.06.94-2.06 2.06-.94-2.06-.94-.94-2.06-.94 2.06-2.06.94zm-11 1L8.5 8.5l.94-2.06 2.06-.94-2.06-.94L8.5 2.5l-.94 2.06-2.06.94zm10 10l.94 2.06.94-2.06 2.06-.94-2.06-.94-.94-2.06-.94 2.06-2.06.94z\"/><path d=\"M17.41 7.96l-1.37-1.37c-.4-.4-.92-.59-1.43-.59-.52 0-1.04.2-1.43.59L10.3 9.45l-7.72 7.72c-.78.78-.78 2.05 0 2.83L4 21.41c.39.39.9.59 1.41.59.51 0 1.02-.2 1.41-.59l7.78-7.78 2.81-2.81c.8-.78.8-2.07 0-2.86zM5.41 20L4 18.59l7.72-7.72 1.47 1.35L5.41 20z\"/>\n",
       "  </svg>\n",
       "      </button>\n",
       "      \n",
       "  <style>\n",
       "    .colab-df-container {\n",
       "      display:flex;\n",
       "      flex-wrap:wrap;\n",
       "      gap: 12px;\n",
       "    }\n",
       "\n",
       "    .colab-df-convert {\n",
       "      background-color: #E8F0FE;\n",
       "      border: none;\n",
       "      border-radius: 50%;\n",
       "      cursor: pointer;\n",
       "      display: none;\n",
       "      fill: #1967D2;\n",
       "      height: 32px;\n",
       "      padding: 0 0 0 0;\n",
       "      width: 32px;\n",
       "    }\n",
       "\n",
       "    .colab-df-convert:hover {\n",
       "      background-color: #E2EBFA;\n",
       "      box-shadow: 0px 1px 2px rgba(60, 64, 67, 0.3), 0px 1px 3px 1px rgba(60, 64, 67, 0.15);\n",
       "      fill: #174EA6;\n",
       "    }\n",
       "\n",
       "    [theme=dark] .colab-df-convert {\n",
       "      background-color: #3B4455;\n",
       "      fill: #D2E3FC;\n",
       "    }\n",
       "\n",
       "    [theme=dark] .colab-df-convert:hover {\n",
       "      background-color: #434B5C;\n",
       "      box-shadow: 0px 1px 3px 1px rgba(0, 0, 0, 0.15);\n",
       "      filter: drop-shadow(0px 1px 2px rgba(0, 0, 0, 0.3));\n",
       "      fill: #FFFFFF;\n",
       "    }\n",
       "  </style>\n",
       "\n",
       "      <script>\n",
       "        const buttonEl =\n",
       "          document.querySelector('#df-177f1014-fd47-4502-8cd1-eabed293ffc9 button.colab-df-convert');\n",
       "        buttonEl.style.display =\n",
       "          google.colab.kernel.accessAllowed ? 'block' : 'none';\n",
       "\n",
       "        async function convertToInteractive(key) {\n",
       "          const element = document.querySelector('#df-177f1014-fd47-4502-8cd1-eabed293ffc9');\n",
       "          const dataTable =\n",
       "            await google.colab.kernel.invokeFunction('convertToInteractive',\n",
       "                                                     [key], {});\n",
       "          if (!dataTable) return;\n",
       "\n",
       "          const docLinkHtml = 'Like what you see? Visit the ' +\n",
       "            '<a target=\"_blank\" href=https://colab.research.google.com/notebooks/data_table.ipynb>data table notebook</a>'\n",
       "            + ' to learn more about interactive tables.';\n",
       "          element.innerHTML = '';\n",
       "          dataTable['output_type'] = 'display_data';\n",
       "          await google.colab.output.renderOutput(dataTable, element);\n",
       "          const docLink = document.createElement('div');\n",
       "          docLink.innerHTML = docLinkHtml;\n",
       "          element.appendChild(docLink);\n",
       "        }\n",
       "      </script>\n",
       "    </div>\n",
       "  </div>\n",
       "  "
      ],
      "text/plain": [
       "          site_id  building_id                    primary_use  square_feet  \\\n",
       "13851463        6          778  Entertainment/public assembly       108339   \n",
       "\n",
       "          meter           timestamp  meter_reading  air_temperature  \\\n",
       "13851463      1 2016-09-09 17:00:00       880374.0          32.1875   \n",
       "\n",
       "          dew_temperature  sea_level_pressure  wind_direction  wind_speed  \n",
       "13851463         18.90625              1013.0           200.0    2.599609  "
      ]
     },
     "execution_count": 37,
     "metadata": {},
     "output_type": "execute_result"
    }
   ],
   "source": [
    "x=merge_df[merge_df['meter']==1]['meter_reading'].max()\n",
    "merge_df[merge_df['meter_reading']==x]"
   ]
  },
  {
   "cell_type": "markdown",
   "metadata": {
    "id": "jZKy9SKDw-IE"
   },
   "source": [
    "Meter 1 has highest reading of 880374 at building id 778 which is an outlier."
   ]
  },
  {
   "cell_type": "code",
   "execution_count": null,
   "metadata": {
    "colab": {
     "base_uri": "https://localhost:8080/",
     "height": 296
    },
    "id": "T1HAK8JEy3bR",
    "outputId": "d1994ced-6654-498a-e9e1-9e9397cfdf60"
   },
   "outputs": [
    {
     "data": {
      "image/png": "[encoded data removed]",
      "text/plain": [
       "<Figure size 432x288 with 1 Axes>"
      ]
     },
     "metadata": {
      "needs_background": "light"
     },
     "output_type": "display_data"
    }
   ],
   "source": [
    "# histogram of steam meter (meter 2)\n",
    "\n",
    "sns.histplot(merge_df[merge_df['meter']==2]['meter_reading'],bins=100)\n",
    "plt.title(\"histogram of steam meter (meter 2)\")\n",
    "plt.show()"
   ]
  },
  {
   "cell_type": "code",
   "execution_count": null,
   "metadata": {
    "colab": {
     "base_uri": "https://localhost:8080/",
     "height": 286
    },
    "id": "T_QPuR4386b5",
    "outputId": "6e41b50f-9892-47a6-bf89-bd070662d844"
   },
   "outputs": [
    {
     "data": {
      "text/plain": [
       "Text(0.5, 1.0, 'boxplot of meter readings for steam(meter 2)')"
      ]
     },
     "execution_count": 12,
     "metadata": {},
     "output_type": "execute_result"
    },
    {
     "data": {
      "image/png": "[encoded data removed]",
      "text/plain": [
       "<Figure size 432x288 with 1 Axes>"
      ]
     },
     "metadata": {
      "needs_background": "light"
     },
     "output_type": "display_data"
    }
   ],
   "source": [
    "\n",
    "sns.boxplot(y=merge_df[merge_df['meter']==2]['meter_reading'])\n",
    "plt.title(\"boxplot of meter readings for steam(meter 2)\")"
   ]
  },
  {
   "cell_type": "code",
   "execution_count": null,
   "metadata": {
    "colab": {
     "base_uri": "https://localhost:8080/",
     "height": 179
    },
    "id": "ebBsRNGwzQ3T",
    "outputId": "10050ee9-8673-4d40-d975-e5ec98d457d8"
   },
   "outputs": [
    {
     "data": {
      "text/html": [
       "\n",
       "  <div id=\"df-2fb6a177-622f-419f-9367-8d760136b934\">\n",
       "    <div class=\"colab-df-container\">\n",
       "      <div>\n",
       "<style scoped>\n",
       "    .dataframe tbody tr th:only-of-type {\n",
       "        vertical-align: middle;\n",
       "    }\n",
       "\n",
       "    .dataframe tbody tr th {\n",
       "        vertical-align: top;\n",
       "    }\n",
       "\n",
       "    .dataframe thead th {\n",
       "        text-align: right;\n",
       "    }\n",
       "</style>\n",
       "<table border=\"1\" class=\"dataframe\">\n",
       "  <thead>\n",
       "    <tr style=\"text-align: right;\">\n",
       "      <th></th>\n",
       "      <th>site_id</th>\n",
       "      <th>building_id</th>\n",
       "      <th>primary_use</th>\n",
       "      <th>square_feet</th>\n",
       "      <th>meter</th>\n",
       "      <th>timestamp</th>\n",
       "      <th>meter_reading</th>\n",
       "      <th>air_temperature</th>\n",
       "      <th>dew_temperature</th>\n",
       "      <th>sea_level_pressure</th>\n",
       "      <th>wind_direction</th>\n",
       "      <th>wind_speed</th>\n",
       "    </tr>\n",
       "  </thead>\n",
       "  <tbody>\n",
       "    <tr>\n",
       "      <th>8907488</th>\n",
       "      <td>13</td>\n",
       "      <td>1099</td>\n",
       "      <td>Education</td>\n",
       "      <td>332884</td>\n",
       "      <td>2</td>\n",
       "      <td>2016-06-13 09:00:00</td>\n",
       "      <td>21904700.0</td>\n",
       "      <td>24.40625</td>\n",
       "      <td>17.203125</td>\n",
       "      <td>1013.0</td>\n",
       "      <td>210.0</td>\n",
       "      <td>2.099609</td>\n",
       "    </tr>\n",
       "  </tbody>\n",
       "</table>\n",
       "</div>\n",
       "      <button class=\"colab-df-convert\" onclick=\"convertToInteractive('df-2fb6a177-622f-419f-9367-8d760136b934')\"\n",
       "              title=\"Convert this dataframe to an interactive table.\"\n",
       "              style=\"display:none;\">\n",
       "        \n",
       "  <svg xmlns=\"http://www.w3.org/2000/svg\" height=\"24px\"viewBox=\"0 0 24 24\"\n",
       "       width=\"24px\">\n",
       "    <path d=\"M0 0h24v24H0V0z\" fill=\"none\"/>\n",
       "    <path d=\"M18.56 5.44l.94 2.06.94-2.06 2.06-.94-2.06-.94-.94-2.06-.94 2.06-2.06.94zm-11 1L8.5 8.5l.94-2.06 2.06-.94-2.06-.94L8.5 2.5l-.94 2.06-2.06.94zm10 10l.94 2.06.94-2.06 2.06-.94-2.06-.94-.94-2.06-.94 2.06-2.06.94z\"/><path d=\"M17.41 7.96l-1.37-1.37c-.4-.4-.92-.59-1.43-.59-.52 0-1.04.2-1.43.59L10.3 9.45l-7.72 7.72c-.78.78-.78 2.05 0 2.83L4 21.41c.39.39.9.59 1.41.59.51 0 1.02-.2 1.41-.59l7.78-7.78 2.81-2.81c.8-.78.8-2.07 0-2.86zM5.41 20L4 18.59l7.72-7.72 1.47 1.35L5.41 20z\"/>\n",
       "  </svg>\n",
       "      </button>\n",
       "      \n",
       "  <style>\n",
       "    .colab-df-container {\n",
       "      display:flex;\n",
       "      flex-wrap:wrap;\n",
       "      gap: 12px;\n",
       "    }\n",
       "\n",
       "    .colab-df-convert {\n",
       "      background-color: #E8F0FE;\n",
       "      border: none;\n",
       "      border-radius: 50%;\n",
       "      cursor: pointer;\n",
       "      display: none;\n",
       "      fill: #1967D2;\n",
       "      height: 32px;\n",
       "      padding: 0 0 0 0;\n",
       "      width: 32px;\n",
       "    }\n",
       "\n",
       "    .colab-df-convert:hover {\n",
       "      background-color: #E2EBFA;\n",
       "      box-shadow: 0px 1px 2px rgba(60, 64, 67, 0.3), 0px 1px 3px 1px rgba(60, 64, 67, 0.15);\n",
       "      fill: #174EA6;\n",
       "    }\n",
       "\n",
       "    [theme=dark] .colab-df-convert {\n",
       "      background-color: #3B4455;\n",
       "      fill: #D2E3FC;\n",
       "    }\n",
       "\n",
       "    [theme=dark] .colab-df-convert:hover {\n",
       "      background-color: #434B5C;\n",
       "      box-shadow: 0px 1px 3px 1px rgba(0, 0, 0, 0.15);\n",
       "      filter: drop-shadow(0px 1px 2px rgba(0, 0, 0, 0.3));\n",
       "      fill: #FFFFFF;\n",
       "    }\n",
       "  </style>\n",
       "\n",
       "      <script>\n",
       "        const buttonEl =\n",
       "          document.querySelector('#df-2fb6a177-622f-419f-9367-8d760136b934 button.colab-df-convert');\n",
       "        buttonEl.style.display =\n",
       "          google.colab.kernel.accessAllowed ? 'block' : 'none';\n",
       "\n",
       "        async function convertToInteractive(key) {\n",
       "          const element = document.querySelector('#df-2fb6a177-622f-419f-9367-8d760136b934');\n",
       "          const dataTable =\n",
       "            await google.colab.kernel.invokeFunction('convertToInteractive',\n",
       "                                                     [key], {});\n",
       "          if (!dataTable) return;\n",
       "\n",
       "          const docLinkHtml = 'Like what you see? Visit the ' +\n",
       "            '<a target=\"_blank\" href=https://colab.research.google.com/notebooks/data_table.ipynb>data table notebook</a>'\n",
       "            + ' to learn more about interactive tables.';\n",
       "          element.innerHTML = '';\n",
       "          dataTable['output_type'] = 'display_data';\n",
       "          await google.colab.output.renderOutput(dataTable, element);\n",
       "          const docLink = document.createElement('div');\n",
       "          docLink.innerHTML = docLinkHtml;\n",
       "          element.appendChild(docLink);\n",
       "        }\n",
       "      </script>\n",
       "    </div>\n",
       "  </div>\n",
       "  "
      ],
      "text/plain": [
       "         site_id  building_id primary_use  square_feet  meter  \\\n",
       "8907488       13         1099   Education       332884      2   \n",
       "\n",
       "                  timestamp  meter_reading  air_temperature  dew_temperature  \\\n",
       "8907488 2016-06-13 09:00:00     21904700.0         24.40625        17.203125   \n",
       "\n",
       "         sea_level_pressure  wind_direction  wind_speed  \n",
       "8907488              1013.0           210.0    2.099609  "
      ]
     },
     "execution_count": 49,
     "metadata": {},
     "output_type": "execute_result"
    }
   ],
   "source": [
    "x=merge_df[merge_df['meter']==2]['meter_reading'].max()\n",
    "merge_df[merge_df['meter_reading']==x]"
   ]
  },
  {
   "cell_type": "markdown",
   "metadata": {
    "id": "Q44Iu4SdziIp"
   },
   "source": [
    "Histogram of meter 2 readings is highly skewed towards left.\n",
    "The highes value of meter 2 readings is 21904700 at building id 1099 which is an outlier."
   ]
  },
  {
   "cell_type": "code",
   "execution_count": 3,
   "metadata": {
    "colab": {
     "base_uri": "https://localhost:8080/",
     "height": 296
    },
    "id": "oyt4Gzsq0T_M",
    "outputId": "8bd004ae-b65a-441e-8db8-e0fcd90b2cc2"
   },
   "outputs": [
    {
     "data": {
      "image/png": "[encoded data removed]",
      "text/plain": [
       "<Figure size 432x288 with 1 Axes>"
      ]
     },
     "metadata": {
      "needs_background": "light"
     },
     "output_type": "display_data"
    }
   ],
   "source": [
    "# histogram of hot water meter (meter 3)\n",
    "sns.histplot(merge_df[merge_df['meter']==3]['meter_reading'],bins=100)\n",
    "plt.title(\"histogram of hot water meter (meter 3)\")\n",
    "plt.show()"
   ]
  },
  {
   "cell_type": "markdown",
   "metadata": {
    "id": "Q27j2hU4At1r"
   },
   "source": [
    "hot water meter histogram is highly skewed towards left."
   ]
  },
  {
   "cell_type": "code",
   "execution_count": null,
   "metadata": {
    "colab": {
     "base_uri": "https://localhost:8080/",
     "height": 268
    },
    "id": "2QWNxGXaAyMX",
    "outputId": "14a6aec5-ffcf-47f9-8747-27889e975fa6"
   },
   "outputs": [
    {
     "data": {
      "image/png": "[encoded data removed]",
      "text/plain": [
       "<Figure size 432x288 with 1 Axes>"
      ]
     },
     "metadata": {
      "needs_background": "light"
     },
     "output_type": "display_data"
    }
   ],
   "source": [
    "sns.boxplot(y=merge_df[merge_df['meter']==3]['meter_reading'])\n",
    "plt.title(\"boxplot of meter readings for steam(meter 3)\")\n",
    "plt.show()"
   ]
  },
  {
   "cell_type": "code",
   "execution_count": null,
   "metadata": {
    "colab": {
     "base_uri": "https://localhost:8080/",
     "height": 179
    },
    "id": "Qbz5bOyS7TXk",
    "outputId": "0c539fa1-812f-4fe6-d0c9-0d312a48c13f"
   },
   "outputs": [
    {
     "data": {
      "text/html": [
       "\n",
       "  <div id=\"df-ddf1c7b5-55a2-4922-acdb-0274ccc15f38\">\n",
       "    <div class=\"colab-df-container\">\n",
       "      <div>\n",
       "<style scoped>\n",
       "    .dataframe tbody tr th:only-of-type {\n",
       "        vertical-align: middle;\n",
       "    }\n",
       "\n",
       "    .dataframe tbody tr th {\n",
       "        vertical-align: top;\n",
       "    }\n",
       "\n",
       "    .dataframe thead th {\n",
       "        text-align: right;\n",
       "    }\n",
       "</style>\n",
       "<table border=\"1\" class=\"dataframe\">\n",
       "  <thead>\n",
       "    <tr style=\"text-align: right;\">\n",
       "      <th></th>\n",
       "      <th>site_id</th>\n",
       "      <th>building_id</th>\n",
       "      <th>primary_use</th>\n",
       "      <th>square_feet</th>\n",
       "      <th>meter</th>\n",
       "      <th>timestamp</th>\n",
       "      <th>meter_reading</th>\n",
       "      <th>air_temperature</th>\n",
       "      <th>dew_temperature</th>\n",
       "      <th>sea_level_pressure</th>\n",
       "      <th>wind_direction</th>\n",
       "      <th>wind_speed</th>\n",
       "    </tr>\n",
       "  </thead>\n",
       "  <tbody>\n",
       "    <tr>\n",
       "      <th>19730988</th>\n",
       "      <td>10</td>\n",
       "      <td>1021</td>\n",
       "      <td>Entertainment/public assembly</td>\n",
       "      <td>213762</td>\n",
       "      <td>3</td>\n",
       "      <td>2016-12-23 10:00:00</td>\n",
       "      <td>160187.0</td>\n",
       "      <td>0.600098</td>\n",
       "      <td>-5.601562</td>\n",
       "      <td>1016.0</td>\n",
       "      <td>160.0</td>\n",
       "      <td>1.5</td>\n",
       "    </tr>\n",
       "  </tbody>\n",
       "</table>\n",
       "</div>\n",
       "      <button class=\"colab-df-convert\" onclick=\"convertToInteractive('df-ddf1c7b5-55a2-4922-acdb-0274ccc15f38')\"\n",
       "              title=\"Convert this dataframe to an interactive table.\"\n",
       "              style=\"display:none;\">\n",
       "        \n",
       "  <svg xmlns=\"http://www.w3.org/2000/svg\" height=\"24px\"viewBox=\"0 0 24 24\"\n",
       "       width=\"24px\">\n",
       "    <path d=\"M0 0h24v24H0V0z\" fill=\"none\"/>\n",
       "    <path d=\"M18.56 5.44l.94 2.06.94-2.06 2.06-.94-2.06-.94-.94-2.06-.94 2.06-2.06.94zm-11 1L8.5 8.5l.94-2.06 2.06-.94-2.06-.94L8.5 2.5l-.94 2.06-2.06.94zm10 10l.94 2.06.94-2.06 2.06-.94-2.06-.94-.94-2.06-.94 2.06-2.06.94z\"/><path d=\"M17.41 7.96l-1.37-1.37c-.4-.4-.92-.59-1.43-.59-.52 0-1.04.2-1.43.59L10.3 9.45l-7.72 7.72c-.78.78-.78 2.05 0 2.83L4 21.41c.39.39.9.59 1.41.59.51 0 1.02-.2 1.41-.59l7.78-7.78 2.81-2.81c.8-.78.8-2.07 0-2.86zM5.41 20L4 18.59l7.72-7.72 1.47 1.35L5.41 20z\"/>\n",
       "  </svg>\n",
       "      </button>\n",
       "      \n",
       "  <style>\n",
       "    .colab-df-container {\n",
       "      display:flex;\n",
       "      flex-wrap:wrap;\n",
       "      gap: 12px;\n",
       "    }\n",
       "\n",
       "    .colab-df-convert {\n",
       "      background-color: #E8F0FE;\n",
       "      border: none;\n",
       "      border-radius: 50%;\n",
       "      cursor: pointer;\n",
       "      display: none;\n",
       "      fill: #1967D2;\n",
       "      height: 32px;\n",
       "      padding: 0 0 0 0;\n",
       "      width: 32px;\n",
       "    }\n",
       "\n",
       "    .colab-df-convert:hover {\n",
       "      background-color: #E2EBFA;\n",
       "      box-shadow: 0px 1px 2px rgba(60, 64, 67, 0.3), 0px 1px 3px 1px rgba(60, 64, 67, 0.15);\n",
       "      fill: #174EA6;\n",
       "    }\n",
       "\n",
       "    [theme=dark] .colab-df-convert {\n",
       "      background-color: #3B4455;\n",
       "      fill: #D2E3FC;\n",
       "    }\n",
       "\n",
       "    [theme=dark] .colab-df-convert:hover {\n",
       "      background-color: #434B5C;\n",
       "      box-shadow: 0px 1px 3px 1px rgba(0, 0, 0, 0.15);\n",
       "      filter: drop-shadow(0px 1px 2px rgba(0, 0, 0, 0.3));\n",
       "      fill: #FFFFFF;\n",
       "    }\n",
       "  </style>\n",
       "\n",
       "      <script>\n",
       "        const buttonEl =\n",
       "          document.querySelector('#df-ddf1c7b5-55a2-4922-acdb-0274ccc15f38 button.colab-df-convert');\n",
       "        buttonEl.style.display =\n",
       "          google.colab.kernel.accessAllowed ? 'block' : 'none';\n",
       "\n",
       "        async function convertToInteractive(key) {\n",
       "          const element = document.querySelector('#df-ddf1c7b5-55a2-4922-acdb-0274ccc15f38');\n",
       "          const dataTable =\n",
       "            await google.colab.kernel.invokeFunction('convertToInteractive',\n",
       "                                                     [key], {});\n",
       "          if (!dataTable) return;\n",
       "\n",
       "          const docLinkHtml = 'Like what you see? Visit the ' +\n",
       "            '<a target=\"_blank\" href=https://colab.research.google.com/notebooks/data_table.ipynb>data table notebook</a>'\n",
       "            + ' to learn more about interactive tables.';\n",
       "          element.innerHTML = '';\n",
       "          dataTable['output_type'] = 'display_data';\n",
       "          await google.colab.output.renderOutput(dataTable, element);\n",
       "          const docLink = document.createElement('div');\n",
       "          docLink.innerHTML = docLinkHtml;\n",
       "          element.appendChild(docLink);\n",
       "        }\n",
       "      </script>\n",
       "    </div>\n",
       "  </div>\n",
       "  "
      ],
      "text/plain": [
       "          site_id  building_id                    primary_use  square_feet  \\\n",
       "19730988       10         1021  Entertainment/public assembly       213762   \n",
       "\n",
       "          meter           timestamp  meter_reading  air_temperature  \\\n",
       "19730988      3 2016-12-23 10:00:00       160187.0         0.600098   \n",
       "\n",
       "          dew_temperature  sea_level_pressure  wind_direction  wind_speed  \n",
       "19730988        -5.601562              1016.0           160.0         1.5  "
      ]
     },
     "execution_count": 51,
     "metadata": {},
     "output_type": "execute_result"
    }
   ],
   "source": [
    "x=merge_df[merge_df['meter']==3]['meter_reading'].max()\n",
    "merge_df[merge_df['meter_reading']==x]"
   ]
  },
  {
   "cell_type": "markdown",
   "metadata": {
    "id": "0GWQvmO77S4Y"
   },
   "source": [
    "The highest reading of hot water meter is 160187 at building id 1021. This is an otlier as compared to other hot water meter readings"
   ]
  },
  {
   "cell_type": "code",
   "execution_count": null,
   "metadata": {
    "colab": {
     "base_uri": "https://localhost:8080/",
     "height": 554
    },
    "id": "X4Bml40U8t4N",
    "outputId": "2f2caab4-a542-477a-ed8f-22e833abe02d"
   },
   "outputs": [
    {
     "data": {
      "image/png": "[encoded data removed]",
      "text/plain": [
       "<Figure size 1080x576 with 4 Axes>"
      ]
     },
     "metadata": {
      "needs_background": "light"
     },
     "output_type": "display_data"
    }
   ],
   "source": [
    "# Average meter readings by hour for each meter type\n",
    "fig,ax=plt.subplots(2,2,figsize=(15,8))\n",
    "fig.suptitle(\"meter_reading vs building id\")\n",
    "\n",
    "\n",
    "\n",
    "# electricity meter\n",
    "x1=merge_df[merge_df['meter']==0][['meter','meter_reading','building_id']]\n",
    "sns.lineplot(ax=ax[0,0],x=list(x1.building_id),y=list(x1.meter_reading))\n",
    "ax[0,0].set(title=\"electricity\",xlabel='building id',ylabel='meter_reading')\n",
    "ax\n",
    "gc.collect()\n",
    "\n",
    "# chilled water meter\n",
    "x1=merge_df[merge_df['meter']==1][['meter','meter_reading','building_id']]\n",
    "sns.lineplot(ax=ax[0,1],x=list(x1.building_id),y=list(x1.meter_reading))\n",
    "ax[0,1].set(title=\"chilled water meter\",xlabel='building id',ylabel='meter_reading')\n",
    "gc.collect()\n",
    "\n",
    "#steam meter\n",
    "x1=merge_df[merge_df['meter']==2][['meter','meter_reading','building_id']]\n",
    "sns.lineplot(ax=ax[1,0],x=list(x1.building_id),y=list(x1.meter_reading))\n",
    "ax[1,0].set(title=\"steam meter\",xlabel='building id',ylabel='meter_reading')\n",
    "gc.collect()\n",
    "\n",
    "# hot water meter\n",
    "x1=merge_df[merge_df['meter']==3][['meter','meter_reading','building_id']]\n",
    "sns.lineplot(ax=ax[1,1],x=list(x1.building_id),y=list(x1.meter_reading))\n",
    "ax[1,1].set(title=\"hot water meter\",xlabel='building id',ylabel='meter_reading')\n",
    "\n",
    "plt.show()"
   ]
  },
  {
   "cell_type": "markdown",
   "metadata": {
    "id": "6aya3LIQtNAG"
   },
   "source": [
    "we can see unusual spikes in the plots of electricity,chilled water, steam and hot water. These spikes are the outliers."
   ]
  },
  {
   "cell_type": "markdown",
   "metadata": {
    "id": "WRW98VvQedFp"
   },
   "source": [
    "# Conclusions from EDA\n",
    "* timestamp of weather_train was not aligned which we have aligned.\n",
    "* Our Train data set contains 1449 diferent buildings from 16 different sites.\n",
    "* Train Data set contains data from 1 jan 2016 to 31 dec 2016.\n",
    "* I have removed the features year_built, floor_count, cloud_coverage, precip_depth_1_hr, sea_level_presuure, wind_direction and wind speed.These features contained high number of nan values(greater than 25%).\n",
    "* There were no duplicates value in the data.\n",
    "* Train data set contains 20216100 data points.\n",
    "* I have also converted the meter readings of site id 0 to kWh.\n",
    "* The features which contained less number of nan values were imputed using median method.\n",
    "* Building 1099 is having an outlier for meter type 2. Its meter reading is 21904700 which is an anomaly. Building 1099 is situated at site id 13.\n",
    "* Out of total electricity meter readings, 4.3958% meter readings are zero. In a building is very rare that the electricity consumption is zero at any moment. A building always has electricity consumption. As it has a lot of permanently connected devices. Hence electricity meters with zero reading are outliers.\n",
    "* 75 percentage of meter readings in our train data are below 250.300 kWh. 99 percentage of meter readings in our train data are below 5178.2402 kWh.\n",
    "* Approximately 75% of buildings have area less than 1.5 lakh square feet. From boxplot it seems that there may be some outlires. Very few buildings have area above 8 lakh square feet\n",
    "* Meter readings drop from midnight upto 6 am. That means meter readings are low from midnight upto 6 am. After 6 am again start increasing and at 3 pm meter readings are maximum. Energy is consumed more during 2 pm to 8 pm\n",
    "* Less energy is consumed in january and february and from july to december. Most of the energy is consumed from march to june. The meter reading is at its peak in april.\n",
    "* site_id and building_id have strong correlation between them. Air_temperature and dew_temperature also have good correlation between them.\n",
    "* None of the features have a good correlation with the target value- meter_reading.\n",
    "* Energy consumption of steam is more than other meters. Electricity consumes least energy.\n",
    "* Meter 0 i.e Electricity meter has most of the data points in our data. 60% of our data contains meter type 0. Meter type 3 i.e hot water is the least equiped meter in our data.\n",
    "* The histograms of each meter type for meter readings are highly skewed towards left.\n",
    "* The highest reading for meter 0 is 79769 kWh at building 993 which seems like an outlier as compared to othere electricity meter readings.\n",
    "* The highest reading for meter 1 is 880374 kWh at building id 778 which i think is unusually high(outlier). \n",
    "* The highest reading for meter 2 is 21904700 kWh at building 1099 which is an outlier. The highest reading of hot water meter is 160187 at building id 1021 which seems like an outlier as compared to otherhot water meter readings."
   ]
  }
 ],
 "metadata": {
  "colab": {
   "provenance": []
  },
  "kernelspec": {
   "display_name": "Python 3 (ipykernel)",
   "language": "python",
   "name": "python3"
  },
  "language_info": {
   "codemirror_mode": {
    "name": "ipython",
    "version": 3
   },
   "file_extension": ".py",
   "mimetype": "text/x-python",
   "name": "python",
   "nbconvert_exporter": "python",
   "pygments_lexer": "ipython3",
   "version": "3.10.8"
  }
 },
 "nbformat": 4,
 "nbformat_minor": 1
}
